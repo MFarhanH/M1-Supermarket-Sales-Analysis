{
 "cells": [
  {
   "cell_type": "markdown",
   "id": "775f31d4",
   "metadata": {},
   "source": [
    "# Introduction\n",
    "\n",
    "\n",
    "Milestone1\n",
    "\n",
    "- Nama  : Muhammad Farhan Hendriyanto\n",
    "- Batch : HCK-027\n",
    "\n",
    "Project ini bertujuan untuk melakukan statistik deskriptif analisis, inferensial analisis, dan visualisasi dari penjualan supermarket store yang bertujuan utnuk meningkatkan penjualan agar bisa melakukan ekspansi cabang agar dengan cara yang strategis.\n"
   ]
  },
  {
   "cell_type": "markdown",
   "id": "cb35cf1a",
   "metadata": {},
   "source": [
    "Link Tableau: https://public.tableau.com/views/P0M1_MuhammadFarhanHendriyanto/MainDashboard?:language=en-US&publish=yes&:sid=&:redirect=auth&:display_count=n&:origin=viz_share_link"
   ]
  },
  {
   "cell_type": "markdown",
   "id": "f980e6be",
   "metadata": {},
   "source": [
    "# Problem Statement\n",
    "\n",
    "**1. Link dataset:** https://www.kaggle.com/datasets/faresashraf1001/supermarket-sales\n",
    "\n",
    "**2. Identifikasi Masalah**\n",
    "\n",
    " \tDalam dunia ritel modern, pengambilan keputusan terhadap suatu bisnis sangat berpengaruh besar dengan impact yang akan terjadi pada perkembangan bisnis tersebut. Dalam mengambil keputusan bisnis tidak bisa hanya dengan mengandalkan intuisi ataupun feeling saja, tetapi juga harus didasari oleh data, informasi dan analisis yang tajam serta akurat. Supermarket merupakan salah satu ritel yang dinamis, menghadapi tantangan dalam memahami perilaku konsumen, mengelola peforma penjualan, dan mengoptimalkan strategi pemasaran. Pada analisis kali ini, terdapat seorang client yang merupakan manager sales & marketing dari supermarket yang memiliki jaringan yang cukup besar. Beliau ingin melihat bagaimana pola penjualan, trend, dan performa tiap cabang yang ada pada perusahaanya tersebut. Tujuannya agar beliau bisa meningkatkan penjualan penjualan keseluruhan tiap cabangnya sebesar 15% dari penjualan sebelumnya dalam kurun waktu 1 bulan setelah penjualan terakhir, agar bisa melakukan ekspansi cabang secara strategis. Perusahaannya sudah menerapkan digitalisasi data dari transaksinya, namun sampai saat ini masih belum ada analisis mendalam yang menjawab pertanyaan penting seperti berikut:\n",
    "\t\n",
    "    - Kapan waktu tertinggi dan terendah total penjualan terjadi?\n",
    "    - Bagaimana persebaran gender customer yang sudah menjadi member? \n",
    "    - Kategori produk apa yang paling banyak terjual?\n",
    "    - Kota mana yang memiliki performa penjualan terbaik?\n",
    "    - Cabang mana yang mempunyai penjualan terendah?\n",
    "    - Apakah gender mempengaruhi penjualan? \n",
    "\n",
    "**3. SMART dan Problem Statement.**\n",
    "\n",
    "    - Specific: Meningkatkan penjualan penjualan di setiap cabang supermarket\n",
    "    - Measurable: Meningkatkan pendapatan sebesar 15% dari penjualan terakhir.\n",
    "    - Achievable: Target ini bisa tercapai apabila tiap cabang melakukan melakukan penjualan lebih besar dari sebelumnya.\n",
    "    - Relevant: Apabila target dapat tercapai, keuntungan bisa menambah biaya agar perusahaan dapat melakukan ekspansi lagi.\n",
    "    - Time-bound: Meningkatkan penjualan dalam kurun waktu 1 bulan setelah analisa.\n",
    "\n",
    "    Problem statement:\n",
    "    Bagaimana cara meningkatkan penjualan sebesar 15% dibandingkan penjualan terakhir dalam waktu 1 bulan setelah analisa ini selesai, agar perusahaan bisa melakukan ekspansi cabang secara strategis?\n",
    "\n",
    "**4. Siapa audiens-nya?**\n",
    "Manager sales & marketing untuk menyusun strategi promosi yang lebih tepat sasaran."
   ]
  },
  {
   "cell_type": "markdown",
   "id": "b45a86a0",
   "metadata": {},
   "source": [
    "# Data Loading"
   ]
  },
  {
   "cell_type": "code",
   "execution_count": 1,
   "id": "8ecea87e",
   "metadata": {},
   "outputs": [],
   "source": [
    "# Import library\n",
    "import pandas as pd\n",
    "import plotly.express as px\n",
    "from scipy.stats import mannwhitneyu\n",
    "import matplotlib.pyplot as plt"
   ]
  },
  {
   "cell_type": "code",
   "execution_count": 2,
   "id": "2ca8f652",
   "metadata": {},
   "outputs": [
    {
     "data": {
      "text/html": [
       "<div>\n",
       "<style scoped>\n",
       "    .dataframe tbody tr th:only-of-type {\n",
       "        vertical-align: middle;\n",
       "    }\n",
       "\n",
       "    .dataframe tbody tr th {\n",
       "        vertical-align: top;\n",
       "    }\n",
       "\n",
       "    .dataframe thead th {\n",
       "        text-align: right;\n",
       "    }\n",
       "</style>\n",
       "<table border=\"1\" class=\"dataframe\">\n",
       "  <thead>\n",
       "    <tr style=\"text-align: right;\">\n",
       "      <th></th>\n",
       "      <th>Invoice ID</th>\n",
       "      <th>Branch</th>\n",
       "      <th>City</th>\n",
       "      <th>Customer type</th>\n",
       "      <th>Gender</th>\n",
       "      <th>Product line</th>\n",
       "      <th>Unit price</th>\n",
       "      <th>Quantity</th>\n",
       "      <th>Tax 5%</th>\n",
       "      <th>Total</th>\n",
       "      <th>Date</th>\n",
       "      <th>Time</th>\n",
       "      <th>Payment</th>\n",
       "      <th>cogs</th>\n",
       "      <th>gross margin percentage</th>\n",
       "      <th>gross income</th>\n",
       "      <th>Rating</th>\n",
       "    </tr>\n",
       "  </thead>\n",
       "  <tbody>\n",
       "    <tr>\n",
       "      <th>0</th>\n",
       "      <td>101-17-6199</td>\n",
       "      <td>A</td>\n",
       "      <td>Yangon</td>\n",
       "      <td>Normal</td>\n",
       "      <td>Male</td>\n",
       "      <td>Food and beverages</td>\n",
       "      <td>45.79</td>\n",
       "      <td>7</td>\n",
       "      <td>160.265</td>\n",
       "      <td>3.365.565</td>\n",
       "      <td>3/13/2019</td>\n",
       "      <td>19:44</td>\n",
       "      <td>Credit card</td>\n",
       "      <td>320.53</td>\n",
       "      <td>4.761.904.762</td>\n",
       "      <td>160.265</td>\n",
       "      <td>7.0</td>\n",
       "    </tr>\n",
       "    <tr>\n",
       "      <th>1</th>\n",
       "      <td>101-81-4070</td>\n",
       "      <td>C</td>\n",
       "      <td>Naypyitaw</td>\n",
       "      <td>Member</td>\n",
       "      <td>Female</td>\n",
       "      <td>Health and beauty</td>\n",
       "      <td>62.82</td>\n",
       "      <td>2</td>\n",
       "      <td>6.282</td>\n",
       "      <td>131.922</td>\n",
       "      <td>1/17/2019</td>\n",
       "      <td>12:36</td>\n",
       "      <td>Ewallet</td>\n",
       "      <td>125.64</td>\n",
       "      <td>4.761.904.762</td>\n",
       "      <td>6.282</td>\n",
       "      <td>4.9</td>\n",
       "    </tr>\n",
       "    <tr>\n",
       "      <th>2</th>\n",
       "      <td>102-06-2002</td>\n",
       "      <td>C</td>\n",
       "      <td>Naypyitaw</td>\n",
       "      <td>Member</td>\n",
       "      <td>Male</td>\n",
       "      <td>Sports and travel</td>\n",
       "      <td>25.25</td>\n",
       "      <td>5</td>\n",
       "      <td>63.125</td>\n",
       "      <td>1.325.625</td>\n",
       "      <td>3/20/2019</td>\n",
       "      <td>17:52</td>\n",
       "      <td>Cash</td>\n",
       "      <td>126.25</td>\n",
       "      <td>4.761.904.762</td>\n",
       "      <td>63.125</td>\n",
       "      <td>6.1</td>\n",
       "    </tr>\n",
       "    <tr>\n",
       "      <th>3</th>\n",
       "      <td>102-77-2261</td>\n",
       "      <td>C</td>\n",
       "      <td>Naypyitaw</td>\n",
       "      <td>Member</td>\n",
       "      <td>Male</td>\n",
       "      <td>Health and beauty</td>\n",
       "      <td>65.31</td>\n",
       "      <td>7</td>\n",
       "      <td>228.585</td>\n",
       "      <td>4.800.285</td>\n",
       "      <td>03/05/2019</td>\n",
       "      <td>18:02</td>\n",
       "      <td>Credit card</td>\n",
       "      <td>457.17</td>\n",
       "      <td>4.761.904.762</td>\n",
       "      <td>228.585</td>\n",
       "      <td>4.2</td>\n",
       "    </tr>\n",
       "    <tr>\n",
       "      <th>4</th>\n",
       "      <td>105-10-6182</td>\n",
       "      <td>A</td>\n",
       "      <td>Yangon</td>\n",
       "      <td>Member</td>\n",
       "      <td>Male</td>\n",
       "      <td>Fashion accessories</td>\n",
       "      <td>21.48</td>\n",
       "      <td>2</td>\n",
       "      <td>2.148</td>\n",
       "      <td>45.108</td>\n",
       "      <td>2/27/2019</td>\n",
       "      <td>12:22</td>\n",
       "      <td>Ewallet</td>\n",
       "      <td>42.96</td>\n",
       "      <td>4.761.904.762</td>\n",
       "      <td>2.148</td>\n",
       "      <td>6.6</td>\n",
       "    </tr>\n",
       "    <tr>\n",
       "      <th>5</th>\n",
       "      <td>105-31-1824</td>\n",
       "      <td>A</td>\n",
       "      <td>Yangon</td>\n",
       "      <td>Member</td>\n",
       "      <td>Male</td>\n",
       "      <td>Sports and travel</td>\n",
       "      <td>69.52</td>\n",
       "      <td>7</td>\n",
       "      <td>24.332</td>\n",
       "      <td>510.972</td>\n",
       "      <td>02/01/2019</td>\n",
       "      <td>15:10</td>\n",
       "      <td>Credit card</td>\n",
       "      <td>486.64</td>\n",
       "      <td>4.761.904.762</td>\n",
       "      <td>24.332</td>\n",
       "      <td>8.5</td>\n",
       "    </tr>\n",
       "    <tr>\n",
       "      <th>6</th>\n",
       "      <td>106-35-6779</td>\n",
       "      <td>A</td>\n",
       "      <td>Yangon</td>\n",
       "      <td>Member</td>\n",
       "      <td>Male</td>\n",
       "      <td>Home and lifestyle</td>\n",
       "      <td>44.34</td>\n",
       "      <td>2</td>\n",
       "      <td>4.434</td>\n",
       "      <td>93.114</td>\n",
       "      <td>3/27/2019</td>\n",
       "      <td>11:26</td>\n",
       "      <td>Cash</td>\n",
       "      <td>88.68</td>\n",
       "      <td>4.761.904.762</td>\n",
       "      <td>4.434</td>\n",
       "      <td>5.8</td>\n",
       "    </tr>\n",
       "    <tr>\n",
       "      <th>7</th>\n",
       "      <td>109-28-2512</td>\n",
       "      <td>B</td>\n",
       "      <td>Mandalay</td>\n",
       "      <td>Member</td>\n",
       "      <td>Female</td>\n",
       "      <td>Fashion accessories</td>\n",
       "      <td>97.61</td>\n",
       "      <td>6</td>\n",
       "      <td>29.283</td>\n",
       "      <td>614.943</td>\n",
       "      <td>01/07/2019</td>\n",
       "      <td>15:01</td>\n",
       "      <td>Ewallet</td>\n",
       "      <td>585.66</td>\n",
       "      <td>4.761.904.762</td>\n",
       "      <td>29.283</td>\n",
       "      <td>9.9</td>\n",
       "    </tr>\n",
       "    <tr>\n",
       "      <th>8</th>\n",
       "      <td>109-86-4363</td>\n",
       "      <td>B</td>\n",
       "      <td>Mandalay</td>\n",
       "      <td>Member</td>\n",
       "      <td>Female</td>\n",
       "      <td>Sports and travel</td>\n",
       "      <td>60.08</td>\n",
       "      <td>7</td>\n",
       "      <td>21.028</td>\n",
       "      <td>441.588</td>\n",
       "      <td>2/14/2019</td>\n",
       "      <td>11:36</td>\n",
       "      <td>Credit card</td>\n",
       "      <td>420.56</td>\n",
       "      <td>4.761.904.762</td>\n",
       "      <td>21.028</td>\n",
       "      <td>4.5</td>\n",
       "    </tr>\n",
       "    <tr>\n",
       "      <th>9</th>\n",
       "      <td>110-05-6330</td>\n",
       "      <td>C</td>\n",
       "      <td>Naypyitaw</td>\n",
       "      <td>Normal</td>\n",
       "      <td>Female</td>\n",
       "      <td>Food and beverages</td>\n",
       "      <td>39.43</td>\n",
       "      <td>6</td>\n",
       "      <td>11.829</td>\n",
       "      <td>248.409</td>\n",
       "      <td>3/25/2019</td>\n",
       "      <td>20:18</td>\n",
       "      <td>Credit card</td>\n",
       "      <td>236.58</td>\n",
       "      <td>4.761.904.762</td>\n",
       "      <td>11.829</td>\n",
       "      <td>9.4</td>\n",
       "    </tr>\n",
       "  </tbody>\n",
       "</table>\n",
       "</div>"
      ],
      "text/plain": [
       "    Invoice ID Branch       City Customer type  Gender         Product line  \\\n",
       "0  101-17-6199      A     Yangon        Normal    Male   Food and beverages   \n",
       "1  101-81-4070      C  Naypyitaw        Member  Female    Health and beauty   \n",
       "2  102-06-2002      C  Naypyitaw        Member    Male    Sports and travel   \n",
       "3  102-77-2261      C  Naypyitaw        Member    Male    Health and beauty   \n",
       "4  105-10-6182      A     Yangon        Member    Male  Fashion accessories   \n",
       "5  105-31-1824      A     Yangon        Member    Male    Sports and travel   \n",
       "6  106-35-6779      A     Yangon        Member    Male   Home and lifestyle   \n",
       "7  109-28-2512      B   Mandalay        Member  Female  Fashion accessories   \n",
       "8  109-86-4363      B   Mandalay        Member  Female    Sports and travel   \n",
       "9  110-05-6330      C  Naypyitaw        Normal  Female   Food and beverages   \n",
       "\n",
       "   Unit price  Quantity   Tax 5%      Total        Date   Time      Payment  \\\n",
       "0       45.79         7  160.265  3.365.565   3/13/2019  19:44  Credit card   \n",
       "1       62.82         2    6.282    131.922   1/17/2019  12:36      Ewallet   \n",
       "2       25.25         5   63.125  1.325.625   3/20/2019  17:52         Cash   \n",
       "3       65.31         7  228.585  4.800.285  03/05/2019  18:02  Credit card   \n",
       "4       21.48         2    2.148     45.108   2/27/2019  12:22      Ewallet   \n",
       "5       69.52         7   24.332    510.972  02/01/2019  15:10  Credit card   \n",
       "6       44.34         2    4.434     93.114   3/27/2019  11:26         Cash   \n",
       "7       97.61         6   29.283    614.943  01/07/2019  15:01      Ewallet   \n",
       "8       60.08         7   21.028    441.588   2/14/2019  11:36  Credit card   \n",
       "9       39.43         6   11.829    248.409   3/25/2019  20:18  Credit card   \n",
       "\n",
       "     cogs gross margin percentage  gross income  Rating  \n",
       "0  320.53           4.761.904.762       160.265     7.0  \n",
       "1  125.64           4.761.904.762         6.282     4.9  \n",
       "2  126.25           4.761.904.762        63.125     6.1  \n",
       "3  457.17           4.761.904.762       228.585     4.2  \n",
       "4   42.96           4.761.904.762         2.148     6.6  \n",
       "5  486.64           4.761.904.762        24.332     8.5  \n",
       "6   88.68           4.761.904.762         4.434     5.8  \n",
       "7  585.66           4.761.904.762        29.283     9.9  \n",
       "8  420.56           4.761.904.762        21.028     4.5  \n",
       "9  236.58           4.761.904.762        11.829     9.4  "
      ]
     },
     "execution_count": 2,
     "metadata": {},
     "output_type": "execute_result"
    }
   ],
   "source": [
    "# load data\n",
    "Data = pd.read_csv(\"D:\\Hacktiv8\\Phase 0\\Milestone\\p0-ftds027-hck-m1-MFarhanH\\POM1_MuhammadFarhan_Hendriyanto\\supermarket_sales - Sheet1.csv\",sep=\";\")\n",
    "Data.head(10)"
   ]
  },
  {
   "cell_type": "code",
   "execution_count": 3,
   "id": "25479fb9",
   "metadata": {},
   "outputs": [
    {
     "data": {
      "text/plain": [
       "Index(['Invoice ID', 'Branch', 'City', 'Customer type', 'Gender',\n",
       "       'Product line', 'Unit price', 'Quantity', 'Tax 5%', 'Total', 'Date',\n",
       "       'Time', 'Payment', 'cogs', 'gross margin percentage', 'gross income',\n",
       "       'Rating'],\n",
       "      dtype='object')"
      ]
     },
     "execution_count": 3,
     "metadata": {},
     "output_type": "execute_result"
    }
   ],
   "source": [
    "# lihat kolom apa saja yang ada pada data\n",
    "Data.columns"
   ]
  },
  {
   "cell_type": "markdown",
   "id": "6de90336",
   "metadata": {},
   "source": [
    "Penjelasan nama kolom:\n",
    "\n",
    "- Branch: Lokasi cabang supermarket (misalnya, Yangon, Naypyitaw, Mandalay).\n",
    "- City: Kota tempat cabang supermarket berada.\n",
    "- Customer Type: Menunjukkan apakah pelanggan merupakan 'Member' (anggota) atau 'Normal' (biasa).\n",
    "- Gender: Jenis kelamin pelanggan.\n",
    "- Product Line: Kategori produk yang dijual (misalnya, Kesehatan & Kecantikan, Aksesori Elektronik, Rumah & Gaya Hidup).\n",
    "- Unit Price: Harga per unit produk.\n",
    "- Quantity: Jumlah barang yang dibeli.\n",
    "- Tax 5%: Jumlah pajak yang dikenakan pada transaksi dengan tarif 5%.\n",
    "- Total: Total jumlah transaksi termasuk pajak.\n",
    "- Date: Tanggal transaksi.\n",
    "- Time: Waktu transaksi.\n",
    "- Payment: Metode pembayaran yang digunakan (misalnya, Tunai, Dompet Digital, Kartu Kredit).\n",
    "- COGS: Biaya pokok penjualan, yaitu biaya dasar dari produk yang dijual.\n",
    "- Gross Margin Percentage: Persentase keuntungan tetap dari setiap penjualan (4,7619%).\n",
    "- Gross Income: Keuntungan yang diperoleh dari transaksi.\n",
    "- Rating: Penilaian kepuasan pelanggan (skala 1 sampai 10)."
   ]
  },
  {
   "cell_type": "code",
   "execution_count": 4,
   "id": "1982106d",
   "metadata": {},
   "outputs": [
    {
     "name": "stdout",
     "output_type": "stream",
     "text": [
      "<class 'pandas.core.frame.DataFrame'>\n",
      "RangeIndex: 1002 entries, 0 to 1001\n",
      "Data columns (total 17 columns):\n",
      " #   Column                   Non-Null Count  Dtype  \n",
      "---  ------                   --------------  -----  \n",
      " 0   Invoice ID               1002 non-null   object \n",
      " 1   Branch                   1002 non-null   object \n",
      " 2   City                     1001 non-null   object \n",
      " 3   Customer type            1001 non-null   object \n",
      " 4   Gender                   1002 non-null   object \n",
      " 5   Product line             1002 non-null   object \n",
      " 6   Unit price               1001 non-null   float64\n",
      " 7   Quantity                 1002 non-null   int64  \n",
      " 8   Tax 5%                   1001 non-null   float64\n",
      " 9   Total                    1002 non-null   object \n",
      " 10  Date                     1002 non-null   object \n",
      " 11  Time                     1002 non-null   object \n",
      " 12  Payment                  1002 non-null   object \n",
      " 13  cogs                     1001 non-null   float64\n",
      " 14  gross margin percentage  1001 non-null   object \n",
      " 15  gross income             1001 non-null   float64\n",
      " 16  Rating                   1001 non-null   float64\n",
      "dtypes: float64(5), int64(1), object(11)\n",
      "memory usage: 133.2+ KB\n"
     ]
    }
   ],
   "source": [
    "# melihat bentuk data\n",
    "Data.info()"
   ]
  },
  {
   "cell_type": "markdown",
   "id": "a5cebe01",
   "metadata": {},
   "source": [
    "Dari sini bisa dilihat bahwa data memiliki 16 kolom ('Invoice ID', 'Branch', 'City', 'Customer type', 'Gender',\n",
    "       'Product line', 'Unit price', 'Quantity', 'Tax 5%', 'Total', 'Date',\n",
    "       'Time', 'Payment', 'cogs', 'gross margin percentage', 'gross income',\n",
    "       'Rating). Data juga memiliki nilai non-null yang tidak konsisten, ini menandakan ada data yang memilki missing value."
   ]
  },
  {
   "cell_type": "markdown",
   "id": "fbde9a9f",
   "metadata": {},
   "source": [
    "# Data Cleaning"
   ]
  },
  {
   "cell_type": "code",
   "execution_count": 5,
   "id": "d084b24b",
   "metadata": {},
   "outputs": [],
   "source": [
    "# membuat df baru untuk mempermudah cleaning data\n",
    "df = Data.drop(columns=['Tax 5%','Total', 'cogs', 'gross margin percentage', 'gross income'])"
   ]
  },
  {
   "cell_type": "code",
   "execution_count": 6,
   "id": "db8b4aa5",
   "metadata": {},
   "outputs": [
    {
     "name": "stdout",
     "output_type": "stream",
     "text": [
      "<class 'pandas.core.frame.DataFrame'>\n",
      "RangeIndex: 1002 entries, 0 to 1001\n",
      "Data columns (total 12 columns):\n",
      " #   Column         Non-Null Count  Dtype  \n",
      "---  ------         --------------  -----  \n",
      " 0   Invoice ID     1002 non-null   object \n",
      " 1   Branch         1002 non-null   object \n",
      " 2   City           1001 non-null   object \n",
      " 3   Customer type  1001 non-null   object \n",
      " 4   Gender         1002 non-null   object \n",
      " 5   Product line   1002 non-null   object \n",
      " 6   Unit price     1001 non-null   float64\n",
      " 7   Quantity       1002 non-null   int64  \n",
      " 8   Date           1002 non-null   object \n",
      " 9   Time           1002 non-null   object \n",
      " 10  Payment        1002 non-null   object \n",
      " 11  Rating         1001 non-null   float64\n",
      "dtypes: float64(2), int64(1), object(9)\n",
      "memory usage: 94.1+ KB\n"
     ]
    }
   ],
   "source": [
    "# melihat kolom apa saja yang memiliki nilai null dan melihat tipe data\n",
    "df.info()"
   ]
  },
  {
   "cell_type": "code",
   "execution_count": 7,
   "id": "f44f84d0",
   "metadata": {},
   "outputs": [
    {
     "data": {
      "text/plain": [
       "Invoice ID       0\n",
       "Branch           0\n",
       "City             1\n",
       "Customer type    1\n",
       "Gender           0\n",
       "Product line     0\n",
       "Unit price       1\n",
       "Quantity         0\n",
       "Date             0\n",
       "Time             0\n",
       "Payment          0\n",
       "Rating           1\n",
       "dtype: int64"
      ]
     },
     "execution_count": 7,
     "metadata": {},
     "output_type": "execute_result"
    }
   ],
   "source": [
    "# melihat jumlah nilai null\n",
    "df.isna().sum()"
   ]
  },
  {
   "cell_type": "code",
   "execution_count": 8,
   "id": "aefd9104",
   "metadata": {},
   "outputs": [
    {
     "data": {
      "text/html": [
       "<div>\n",
       "<style scoped>\n",
       "    .dataframe tbody tr th:only-of-type {\n",
       "        vertical-align: middle;\n",
       "    }\n",
       "\n",
       "    .dataframe tbody tr th {\n",
       "        vertical-align: top;\n",
       "    }\n",
       "\n",
       "    .dataframe thead th {\n",
       "        text-align: right;\n",
       "    }\n",
       "</style>\n",
       "<table border=\"1\" class=\"dataframe\">\n",
       "  <thead>\n",
       "    <tr style=\"text-align: right;\">\n",
       "      <th></th>\n",
       "      <th>Invoice ID</th>\n",
       "      <th>Branch</th>\n",
       "      <th>City</th>\n",
       "      <th>Customer type</th>\n",
       "      <th>Gender</th>\n",
       "      <th>Product line</th>\n",
       "      <th>Unit price</th>\n",
       "      <th>Quantity</th>\n",
       "      <th>Date</th>\n",
       "      <th>Time</th>\n",
       "      <th>Payment</th>\n",
       "      <th>Rating</th>\n",
       "    </tr>\n",
       "  </thead>\n",
       "  <tbody>\n",
       "    <tr>\n",
       "      <th>1000</th>\n",
       "      <td>899-01-28</td>\n",
       "      <td>B</td>\n",
       "      <td>Yangon</td>\n",
       "      <td>NaN</td>\n",
       "      <td>Male</td>\n",
       "      <td>Home and lifestyle</td>\n",
       "      <td>NaN</td>\n",
       "      <td>3</td>\n",
       "      <td>3/20/2019</td>\n",
       "      <td>13:00</td>\n",
       "      <td>Cash</td>\n",
       "      <td>8.0</td>\n",
       "    </tr>\n",
       "    <tr>\n",
       "      <th>1001</th>\n",
       "      <td>900-01-29</td>\n",
       "      <td>C</td>\n",
       "      <td>NaN</td>\n",
       "      <td>Member</td>\n",
       "      <td>Female</td>\n",
       "      <td>Food and beverages</td>\n",
       "      <td>63.41</td>\n",
       "      <td>7</td>\n",
       "      <td>04/01/2019</td>\n",
       "      <td>17:59</td>\n",
       "      <td>Ewallet</td>\n",
       "      <td>NaN</td>\n",
       "    </tr>\n",
       "  </tbody>\n",
       "</table>\n",
       "</div>"
      ],
      "text/plain": [
       "     Invoice ID Branch    City Customer type  Gender        Product line  \\\n",
       "1000  899-01-28      B  Yangon           NaN    Male  Home and lifestyle   \n",
       "1001  900-01-29      C     NaN        Member  Female  Food and beverages   \n",
       "\n",
       "      Unit price  Quantity        Date   Time  Payment  Rating  \n",
       "1000         NaN         3   3/20/2019  13:00     Cash     8.0  \n",
       "1001       63.41         7  04/01/2019  17:59  Ewallet     NaN  "
      ]
     },
     "execution_count": 8,
     "metadata": {},
     "output_type": "execute_result"
    }
   ],
   "source": [
    "# menampilkan kolom apa saja yang memiliki nilai null\n",
    "df[df.isna().any(axis=1)]"
   ]
  },
  {
   "cell_type": "code",
   "execution_count": 9,
   "id": "f269201b",
   "metadata": {},
   "outputs": [],
   "source": [
    "# Handling missing value\n",
    "df.dropna(inplace=True)"
   ]
  },
  {
   "cell_type": "code",
   "execution_count": 10,
   "id": "9231ef6a",
   "metadata": {},
   "outputs": [
    {
     "data": {
      "text/plain": [
       "Invoice ID       0\n",
       "Branch           0\n",
       "City             0\n",
       "Customer type    0\n",
       "Gender           0\n",
       "Product line     0\n",
       "Unit price       0\n",
       "Quantity         0\n",
       "Date             0\n",
       "Time             0\n",
       "Payment          0\n",
       "Rating           0\n",
       "dtype: int64"
      ]
     },
     "execution_count": 10,
     "metadata": {},
     "output_type": "execute_result"
    }
   ],
   "source": [
    "# cek kembali missing value\n",
    "df.isna().sum()"
   ]
  },
  {
   "cell_type": "code",
   "execution_count": 11,
   "id": "281fc3fe",
   "metadata": {},
   "outputs": [],
   "source": [
    "#Menghitung ulang Tax 5% (Tax = 5% dari Unit Price * Quantity)\n",
    "df['new_Tax 5%'] = df['Unit price'] * df['Quantity'] * 0.05\n",
    "\n",
    "#Menghitung Total (Total = Unit Price * Quantity + Tax 5%)\n",
    "df['new_Total'] = df['Unit price'] * df['Quantity'] + df['new_Tax 5%']\n",
    "\n",
    "#Menghitung ulang Gross Income (Gross Income = 5% dari Total)\n",
    "df['new_gross income'] = df['new_Tax 5%']\n",
    "\n",
    "#Menghitung ulang COGS (COGS = Total - Gross Income)\n",
    "df['new_cogs'] = df['new_Total'] - df['new_gross income']\n",
    "\n",
    "#Menghitung ulang Gross Margin Percentage (Gross Income / Total * 100)\n",
    "df['new_gross margin percentage'] = (df['new_gross income'] / df['new_Total']) * 100\n",
    "\n",
    "#Membulatkan angka\n",
    "df['new_Tax 5%'] = df['new_Tax 5%'].round(2)\n",
    "df['new_Total'] = df['new_Total'].round(2)\n",
    "df['new_gross income'] = df['new_gross income'].round(2)\n",
    "df['new_cogs'] = df['new_cogs'].round(2)\n",
    "df['new_gross margin percentage'] = df['new_gross margin percentage'].round(2)"
   ]
  },
  {
   "cell_type": "code",
   "execution_count": 12,
   "id": "c8c0c63d",
   "metadata": {},
   "outputs": [
    {
     "data": {
      "text/html": [
       "<div>\n",
       "<style scoped>\n",
       "    .dataframe tbody tr th:only-of-type {\n",
       "        vertical-align: middle;\n",
       "    }\n",
       "\n",
       "    .dataframe tbody tr th {\n",
       "        vertical-align: top;\n",
       "    }\n",
       "\n",
       "    .dataframe thead th {\n",
       "        text-align: right;\n",
       "    }\n",
       "</style>\n",
       "<table border=\"1\" class=\"dataframe\">\n",
       "  <thead>\n",
       "    <tr style=\"text-align: right;\">\n",
       "      <th></th>\n",
       "      <th>Invoice ID</th>\n",
       "      <th>Branch</th>\n",
       "      <th>City</th>\n",
       "      <th>Customer type</th>\n",
       "      <th>Gender</th>\n",
       "      <th>Product line</th>\n",
       "      <th>Unit price</th>\n",
       "      <th>Quantity</th>\n",
       "      <th>Date</th>\n",
       "      <th>Time</th>\n",
       "      <th>Payment</th>\n",
       "      <th>Rating</th>\n",
       "      <th>new_Tax 5%</th>\n",
       "      <th>new_Total</th>\n",
       "      <th>new_gross income</th>\n",
       "      <th>new_cogs</th>\n",
       "      <th>new_gross margin percentage</th>\n",
       "    </tr>\n",
       "  </thead>\n",
       "  <tbody>\n",
       "    <tr>\n",
       "      <th>0</th>\n",
       "      <td>101-17-6199</td>\n",
       "      <td>A</td>\n",
       "      <td>Yangon</td>\n",
       "      <td>Normal</td>\n",
       "      <td>Male</td>\n",
       "      <td>Food and beverages</td>\n",
       "      <td>45.79</td>\n",
       "      <td>7</td>\n",
       "      <td>3/13/2019</td>\n",
       "      <td>19:44</td>\n",
       "      <td>Credit card</td>\n",
       "      <td>7.0</td>\n",
       "      <td>16.03</td>\n",
       "      <td>336.56</td>\n",
       "      <td>16.03</td>\n",
       "      <td>320.53</td>\n",
       "      <td>4.76</td>\n",
       "    </tr>\n",
       "    <tr>\n",
       "      <th>1</th>\n",
       "      <td>101-81-4070</td>\n",
       "      <td>C</td>\n",
       "      <td>Naypyitaw</td>\n",
       "      <td>Member</td>\n",
       "      <td>Female</td>\n",
       "      <td>Health and beauty</td>\n",
       "      <td>62.82</td>\n",
       "      <td>2</td>\n",
       "      <td>1/17/2019</td>\n",
       "      <td>12:36</td>\n",
       "      <td>Ewallet</td>\n",
       "      <td>4.9</td>\n",
       "      <td>6.28</td>\n",
       "      <td>131.92</td>\n",
       "      <td>6.28</td>\n",
       "      <td>125.64</td>\n",
       "      <td>4.76</td>\n",
       "    </tr>\n",
       "    <tr>\n",
       "      <th>2</th>\n",
       "      <td>102-06-2002</td>\n",
       "      <td>C</td>\n",
       "      <td>Naypyitaw</td>\n",
       "      <td>Member</td>\n",
       "      <td>Male</td>\n",
       "      <td>Sports and travel</td>\n",
       "      <td>25.25</td>\n",
       "      <td>5</td>\n",
       "      <td>3/20/2019</td>\n",
       "      <td>17:52</td>\n",
       "      <td>Cash</td>\n",
       "      <td>6.1</td>\n",
       "      <td>6.31</td>\n",
       "      <td>132.56</td>\n",
       "      <td>6.31</td>\n",
       "      <td>126.25</td>\n",
       "      <td>4.76</td>\n",
       "    </tr>\n",
       "    <tr>\n",
       "      <th>3</th>\n",
       "      <td>102-77-2261</td>\n",
       "      <td>C</td>\n",
       "      <td>Naypyitaw</td>\n",
       "      <td>Member</td>\n",
       "      <td>Male</td>\n",
       "      <td>Health and beauty</td>\n",
       "      <td>65.31</td>\n",
       "      <td>7</td>\n",
       "      <td>03/05/2019</td>\n",
       "      <td>18:02</td>\n",
       "      <td>Credit card</td>\n",
       "      <td>4.2</td>\n",
       "      <td>22.86</td>\n",
       "      <td>480.03</td>\n",
       "      <td>22.86</td>\n",
       "      <td>457.17</td>\n",
       "      <td>4.76</td>\n",
       "    </tr>\n",
       "    <tr>\n",
       "      <th>4</th>\n",
       "      <td>105-10-6182</td>\n",
       "      <td>A</td>\n",
       "      <td>Yangon</td>\n",
       "      <td>Member</td>\n",
       "      <td>Male</td>\n",
       "      <td>Fashion accessories</td>\n",
       "      <td>21.48</td>\n",
       "      <td>2</td>\n",
       "      <td>2/27/2019</td>\n",
       "      <td>12:22</td>\n",
       "      <td>Ewallet</td>\n",
       "      <td>6.6</td>\n",
       "      <td>2.15</td>\n",
       "      <td>45.11</td>\n",
       "      <td>2.15</td>\n",
       "      <td>42.96</td>\n",
       "      <td>4.76</td>\n",
       "    </tr>\n",
       "  </tbody>\n",
       "</table>\n",
       "</div>"
      ],
      "text/plain": [
       "    Invoice ID Branch       City Customer type  Gender         Product line  \\\n",
       "0  101-17-6199      A     Yangon        Normal    Male   Food and beverages   \n",
       "1  101-81-4070      C  Naypyitaw        Member  Female    Health and beauty   \n",
       "2  102-06-2002      C  Naypyitaw        Member    Male    Sports and travel   \n",
       "3  102-77-2261      C  Naypyitaw        Member    Male    Health and beauty   \n",
       "4  105-10-6182      A     Yangon        Member    Male  Fashion accessories   \n",
       "\n",
       "   Unit price  Quantity        Date   Time      Payment  Rating  new_Tax 5%  \\\n",
       "0       45.79         7   3/13/2019  19:44  Credit card     7.0       16.03   \n",
       "1       62.82         2   1/17/2019  12:36      Ewallet     4.9        6.28   \n",
       "2       25.25         5   3/20/2019  17:52         Cash     6.1        6.31   \n",
       "3       65.31         7  03/05/2019  18:02  Credit card     4.2       22.86   \n",
       "4       21.48         2   2/27/2019  12:22      Ewallet     6.6        2.15   \n",
       "\n",
       "   new_Total  new_gross income  new_cogs  new_gross margin percentage  \n",
       "0     336.56             16.03    320.53                         4.76  \n",
       "1     131.92              6.28    125.64                         4.76  \n",
       "2     132.56              6.31    126.25                         4.76  \n",
       "3     480.03             22.86    457.17                         4.76  \n",
       "4      45.11              2.15     42.96                         4.76  "
      ]
     },
     "execution_count": 12,
     "metadata": {},
     "output_type": "execute_result"
    }
   ],
   "source": [
    "df.head()"
   ]
  },
  {
   "cell_type": "code",
   "execution_count": 13,
   "id": "4012eba9",
   "metadata": {},
   "outputs": [],
   "source": [
    "# mengubah tipe data\n",
    "df['Date'] = pd.to_datetime(df['Date'])\n",
    "df['Time'] = pd.to_datetime(df['Time'], format='%H:%M')\n",
    "df['Month'] = pd.to_datetime(df['Date'], format='%M')\n",
    "df['Year'] = pd.to_datetime(df['Date'], format='%Y')\n",
    "df['Week'] = df['Date'].dt.to_period('W').dt.start_time\n",
    "df['new_Total'] = pd.to_numeric(df['new_Total'], errors='coerce')\n",
    "df['Gender_code'] = df['Gender'].map({'Male': 0, 'Female': 1})"
   ]
  },
  {
   "cell_type": "code",
   "execution_count": 14,
   "id": "7ae78f69",
   "metadata": {},
   "outputs": [],
   "source": [
    "df['Day'] = df['Date'].dt.day_name()\n",
    "df['Week'] = df['Date'].dt.day_of_week\n",
    "df['Month'] = df['Date'].dt.month_name()\n",
    "df['Year'] = df['Date'].dt.year"
   ]
  },
  {
   "cell_type": "code",
   "execution_count": 15,
   "id": "1dfa2668",
   "metadata": {},
   "outputs": [
    {
     "data": {
      "text/plain": [
       "False    1000\n",
       "Name: count, dtype: int64"
      ]
     },
     "execution_count": 15,
     "metadata": {},
     "output_type": "execute_result"
    }
   ],
   "source": [
    "# cek data duplikat\n",
    "df.duplicated().value_counts()"
   ]
  },
  {
   "cell_type": "code",
   "execution_count": 16,
   "id": "9b67475b",
   "metadata": {},
   "outputs": [
    {
     "data": {
      "text/html": [
       "<div>\n",
       "<style scoped>\n",
       "    .dataframe tbody tr th:only-of-type {\n",
       "        vertical-align: middle;\n",
       "    }\n",
       "\n",
       "    .dataframe tbody tr th {\n",
       "        vertical-align: top;\n",
       "    }\n",
       "\n",
       "    .dataframe thead th {\n",
       "        text-align: right;\n",
       "    }\n",
       "</style>\n",
       "<table border=\"1\" class=\"dataframe\">\n",
       "  <thead>\n",
       "    <tr style=\"text-align: right;\">\n",
       "      <th></th>\n",
       "      <th>Invoice ID</th>\n",
       "      <th>Branch</th>\n",
       "      <th>City</th>\n",
       "      <th>Customer type</th>\n",
       "      <th>Gender</th>\n",
       "      <th>Product line</th>\n",
       "      <th>Unit price</th>\n",
       "      <th>Quantity</th>\n",
       "      <th>Date</th>\n",
       "      <th>Time</th>\n",
       "      <th>...</th>\n",
       "      <th>new_Tax 5%</th>\n",
       "      <th>new_Total</th>\n",
       "      <th>new_gross income</th>\n",
       "      <th>new_cogs</th>\n",
       "      <th>new_gross margin percentage</th>\n",
       "      <th>Month</th>\n",
       "      <th>Year</th>\n",
       "      <th>Week</th>\n",
       "      <th>Gender_code</th>\n",
       "      <th>Day</th>\n",
       "    </tr>\n",
       "  </thead>\n",
       "  <tbody>\n",
       "  </tbody>\n",
       "</table>\n",
       "<p>0 rows × 22 columns</p>\n",
       "</div>"
      ],
      "text/plain": [
       "Empty DataFrame\n",
       "Columns: [Invoice ID, Branch, City, Customer type, Gender, Product line, Unit price, Quantity, Date, Time, Payment, Rating, new_Tax 5%, new_Total, new_gross income, new_cogs, new_gross margin percentage, Month, Year, Week, Gender_code, Day]\n",
       "Index: []\n",
       "\n",
       "[0 rows x 22 columns]"
      ]
     },
     "execution_count": 16,
     "metadata": {},
     "output_type": "execute_result"
    }
   ],
   "source": [
    "df[df.isna().any(axis=1)]"
   ]
  },
  {
   "cell_type": "code",
   "execution_count": 17,
   "id": "e7d91cb8",
   "metadata": {},
   "outputs": [
    {
     "name": "stdout",
     "output_type": "stream",
     "text": [
      "<class 'pandas.core.frame.DataFrame'>\n",
      "Index: 1000 entries, 0 to 999\n",
      "Data columns (total 22 columns):\n",
      " #   Column                       Non-Null Count  Dtype         \n",
      "---  ------                       --------------  -----         \n",
      " 0   Invoice ID                   1000 non-null   object        \n",
      " 1   Branch                       1000 non-null   object        \n",
      " 2   City                         1000 non-null   object        \n",
      " 3   Customer type                1000 non-null   object        \n",
      " 4   Gender                       1000 non-null   object        \n",
      " 5   Product line                 1000 non-null   object        \n",
      " 6   Unit price                   1000 non-null   float64       \n",
      " 7   Quantity                     1000 non-null   int64         \n",
      " 8   Date                         1000 non-null   datetime64[ns]\n",
      " 9   Time                         1000 non-null   datetime64[ns]\n",
      " 10  Payment                      1000 non-null   object        \n",
      " 11  Rating                       1000 non-null   float64       \n",
      " 12  new_Tax 5%                   1000 non-null   float64       \n",
      " 13  new_Total                    1000 non-null   float64       \n",
      " 14  new_gross income             1000 non-null   float64       \n",
      " 15  new_cogs                     1000 non-null   float64       \n",
      " 16  new_gross margin percentage  1000 non-null   float64       \n",
      " 17  Month                        1000 non-null   object        \n",
      " 18  Year                         1000 non-null   int32         \n",
      " 19  Week                         1000 non-null   int32         \n",
      " 20  Gender_code                  1000 non-null   int64         \n",
      " 21  Day                          1000 non-null   object        \n",
      "dtypes: datetime64[ns](2), float64(7), int32(2), int64(2), object(9)\n",
      "memory usage: 171.9+ KB\n"
     ]
    }
   ],
   "source": [
    "df.info()"
   ]
  },
  {
   "cell_type": "code",
   "execution_count": 18,
   "id": "28d533bb",
   "metadata": {},
   "outputs": [],
   "source": [
    "df.to_excel(\"Data Supermart Clean.xlsx\", index=False)"
   ]
  },
  {
   "cell_type": "markdown",
   "id": "b80158a0",
   "metadata": {},
   "source": [
    "Pada proses ini, dilakukan penghitungan ulang terkait dengan beberapa kolom tertentu karena pada kolom yang sama sebelumnya, data memiliki karakteristik penempatan format yang kurang tepat, sehingga data dibersihkan dengan cara membuat kolom baru dengan mengisinya berdasarkan dengan rumus/pola data sebelumnya dan merubahnya menjadi lebih readable.\n",
    "\n",
    "Pada proses ini juga data dilakukan cleaning dengan cara merubah tipe data menjadi tipe yang umum dipakai, sprti Date menjadi Datetime dan lain sebagainya. Kemudian juga kolom Date dipecah menjadi beberapa waktu bagian tujuannya adalah agar mempermudah analisis lebih lanjut."
   ]
  },
  {
   "cell_type": "markdown",
   "id": "18b7b041",
   "metadata": {},
   "source": [
    "# Data Exploration & Analysis"
   ]
  },
  {
   "cell_type": "markdown",
   "id": "d238500c",
   "metadata": {},
   "source": [
    "## 1. Visualisasi Line Chart"
   ]
  },
  {
   "cell_type": "markdown",
   "id": "5b37a278",
   "metadata": {},
   "source": [
    "1. Analisis waktu tertinggi dan Terendah Penjualan"
   ]
  },
  {
   "cell_type": "code",
   "execution_count": 19,
   "id": "00d5cd06",
   "metadata": {},
   "outputs": [
    {
     "name": "stdout",
     "output_type": "stream",
     "text": [
      "1,000.01\n"
     ]
    }
   ],
   "source": [
    "a = 1000.01231\n",
    "print(f'{a:,.2f}')"
   ]
  },
  {
   "cell_type": "code",
   "execution_count": 20,
   "id": "1a0923bd",
   "metadata": {},
   "outputs": [
    {
     "name": "stderr",
     "output_type": "stream",
     "text": [
      "c:\\Users\\farha\\AppData\\Local\\Programs\\Python\\Python311\\Lib\\site-packages\\_plotly_utils\\basevalidators.py:105: FutureWarning: The behavior of DatetimeProperties.to_pydatetime is deprecated, in a future version this will return a Series containing python datetime objects instead of an ndarray. To retain the old behavior, call `np.array` on the result\n",
      "  v = v.dt.to_pydatetime()\n"
     ]
    },
    {
     "data": {
      "application/vnd.plotly.v1+json": {
       "config": {
        "plotlyServerURL": "https://plot.ly"
       },
       "data": [
        {
         "hovertemplate": "Tanggal=%{x}<br>Total Penjualan=%{y}<extra></extra>",
         "legendgroup": "",
         "line": {
          "color": "#636efa",
          "dash": "solid"
         },
         "marker": {
          "symbol": "circle"
         },
         "mode": "lines+markers",
         "name": "",
         "orientation": "v",
         "showlegend": false,
         "type": "scatter",
         "x": [
          "2019-01-01T00:00:00",
          "2019-01-02T00:00:00",
          "2019-01-03T00:00:00",
          "2019-01-04T00:00:00",
          "2019-01-05T00:00:00",
          "2019-01-06T00:00:00",
          "2019-01-07T00:00:00",
          "2019-01-08T00:00:00",
          "2019-01-09T00:00:00",
          "2019-01-10T00:00:00",
          "2019-01-11T00:00:00",
          "2019-01-12T00:00:00",
          "2019-01-13T00:00:00",
          "2019-01-14T00:00:00",
          "2019-01-15T00:00:00",
          "2019-01-16T00:00:00",
          "2019-01-17T00:00:00",
          "2019-01-18T00:00:00",
          "2019-01-19T00:00:00",
          "2019-01-20T00:00:00",
          "2019-01-21T00:00:00",
          "2019-01-22T00:00:00",
          "2019-01-23T00:00:00",
          "2019-01-24T00:00:00",
          "2019-01-25T00:00:00",
          "2019-01-26T00:00:00",
          "2019-01-27T00:00:00",
          "2019-01-28T00:00:00",
          "2019-01-29T00:00:00",
          "2019-01-30T00:00:00",
          "2019-01-31T00:00:00",
          "2019-02-01T00:00:00",
          "2019-02-02T00:00:00",
          "2019-02-03T00:00:00",
          "2019-02-04T00:00:00",
          "2019-02-05T00:00:00",
          "2019-02-06T00:00:00",
          "2019-02-07T00:00:00",
          "2019-02-08T00:00:00",
          "2019-02-09T00:00:00",
          "2019-02-10T00:00:00",
          "2019-02-11T00:00:00",
          "2019-02-12T00:00:00",
          "2019-02-13T00:00:00",
          "2019-02-14T00:00:00",
          "2019-02-15T00:00:00",
          "2019-02-16T00:00:00",
          "2019-02-17T00:00:00",
          "2019-02-18T00:00:00",
          "2019-02-19T00:00:00",
          "2019-02-20T00:00:00",
          "2019-02-21T00:00:00",
          "2019-02-22T00:00:00",
          "2019-02-23T00:00:00",
          "2019-02-24T00:00:00",
          "2019-02-25T00:00:00",
          "2019-02-26T00:00:00",
          "2019-02-27T00:00:00",
          "2019-02-28T00:00:00",
          "2019-03-01T00:00:00",
          "2019-03-02T00:00:00",
          "2019-03-03T00:00:00",
          "2019-03-04T00:00:00",
          "2019-03-05T00:00:00",
          "2019-03-06T00:00:00",
          "2019-03-07T00:00:00",
          "2019-03-08T00:00:00",
          "2019-03-09T00:00:00",
          "2019-03-10T00:00:00",
          "2019-03-11T00:00:00",
          "2019-03-12T00:00:00",
          "2019-03-13T00:00:00",
          "2019-03-14T00:00:00",
          "2019-03-15T00:00:00",
          "2019-03-16T00:00:00",
          "2019-03-17T00:00:00",
          "2019-03-18T00:00:00",
          "2019-03-19T00:00:00",
          "2019-03-20T00:00:00",
          "2019-03-21T00:00:00",
          "2019-03-22T00:00:00",
          "2019-03-23T00:00:00",
          "2019-03-24T00:00:00",
          "2019-03-25T00:00:00",
          "2019-03-26T00:00:00",
          "2019-03-27T00:00:00",
          "2019-03-28T00:00:00",
          "2019-03-29T00:00:00",
          "2019-03-30T00:00:00"
         ],
         "xaxis": "x",
         "y": [
          4745.19,
          1945.5,
          2078.11,
          1623.68,
          3536.68,
          3614.22,
          2834.2400000000002,
          5293.77,
          3021.34,
          3560.95,
          2114.9700000000003,
          5184.74,
          2451.2,
          3966.62,
          5944.27,
          4289.09,
          3142.76,
          2780.4700000000003,
          4914.73,
          3655.45,
          2392.11,
          1704.77,
          5994.1900000000005,
          5402.04,
          4700.38,
          4457.51,
          4635.87,
          4999.72,
          3516.56,
          2558.27,
          5232.5,
          2444.54,
          4140.96,
          5467.92,
          2439.5,
          3031.13,
          2905.43,
          7228.22,
          5084.65,
          3271.87,
          3141.02,
          4542.15,
          2998.99,
          934.25,
          2454.09,
          6830.780000000001,
          2503.77,
          5299.59,
          1496.03,
          4228.13,
          2706.42,
          1393.75,
          2442.3,
          2339.58,
          2722.46,
          4807.22,
          2408.16,
          5859.4400000000005,
          2097.03,
          2634.3599999999997,
          6560.3099999999995,
          4853.17,
          3894.45,
          6230.89,
          3092.6,
          1438.26,
          3125.4,
          7474.04,
          3163.24,
          2961.25,
          3677.54,
          2063.62,
          7214.62,
          2942.42,
          3154.4700000000003,
          1976.29,
          1292.83,
          5740.400000000001,
          5458.19,
          1877.52,
          3179.15,
          4095.04,
          3477.47,
          2272.9700000000003,
          1962.51,
          2902.81,
          2229.42,
          4023.25,
          4487.06
         ],
         "yaxis": "y"
        }
       ],
       "layout": {
        "legend": {
         "tracegroupgap": 0
        },
        "template": {
         "data": {
          "bar": [
           {
            "error_x": {
             "color": "#2a3f5f"
            },
            "error_y": {
             "color": "#2a3f5f"
            },
            "marker": {
             "line": {
              "color": "#E5ECF6",
              "width": 0.5
             },
             "pattern": {
              "fillmode": "overlay",
              "size": 10,
              "solidity": 0.2
             }
            },
            "type": "bar"
           }
          ],
          "barpolar": [
           {
            "marker": {
             "line": {
              "color": "#E5ECF6",
              "width": 0.5
             },
             "pattern": {
              "fillmode": "overlay",
              "size": 10,
              "solidity": 0.2
             }
            },
            "type": "barpolar"
           }
          ],
          "carpet": [
           {
            "aaxis": {
             "endlinecolor": "#2a3f5f",
             "gridcolor": "white",
             "linecolor": "white",
             "minorgridcolor": "white",
             "startlinecolor": "#2a3f5f"
            },
            "baxis": {
             "endlinecolor": "#2a3f5f",
             "gridcolor": "white",
             "linecolor": "white",
             "minorgridcolor": "white",
             "startlinecolor": "#2a3f5f"
            },
            "type": "carpet"
           }
          ],
          "choropleth": [
           {
            "colorbar": {
             "outlinewidth": 0,
             "ticks": ""
            },
            "type": "choropleth"
           }
          ],
          "contour": [
           {
            "colorbar": {
             "outlinewidth": 0,
             "ticks": ""
            },
            "colorscale": [
             [
              0,
              "#0d0887"
             ],
             [
              0.1111111111111111,
              "#46039f"
             ],
             [
              0.2222222222222222,
              "#7201a8"
             ],
             [
              0.3333333333333333,
              "#9c179e"
             ],
             [
              0.4444444444444444,
              "#bd3786"
             ],
             [
              0.5555555555555556,
              "#d8576b"
             ],
             [
              0.6666666666666666,
              "#ed7953"
             ],
             [
              0.7777777777777778,
              "#fb9f3a"
             ],
             [
              0.8888888888888888,
              "#fdca26"
             ],
             [
              1,
              "#f0f921"
             ]
            ],
            "type": "contour"
           }
          ],
          "contourcarpet": [
           {
            "colorbar": {
             "outlinewidth": 0,
             "ticks": ""
            },
            "type": "contourcarpet"
           }
          ],
          "heatmap": [
           {
            "colorbar": {
             "outlinewidth": 0,
             "ticks": ""
            },
            "colorscale": [
             [
              0,
              "#0d0887"
             ],
             [
              0.1111111111111111,
              "#46039f"
             ],
             [
              0.2222222222222222,
              "#7201a8"
             ],
             [
              0.3333333333333333,
              "#9c179e"
             ],
             [
              0.4444444444444444,
              "#bd3786"
             ],
             [
              0.5555555555555556,
              "#d8576b"
             ],
             [
              0.6666666666666666,
              "#ed7953"
             ],
             [
              0.7777777777777778,
              "#fb9f3a"
             ],
             [
              0.8888888888888888,
              "#fdca26"
             ],
             [
              1,
              "#f0f921"
             ]
            ],
            "type": "heatmap"
           }
          ],
          "heatmapgl": [
           {
            "colorbar": {
             "outlinewidth": 0,
             "ticks": ""
            },
            "colorscale": [
             [
              0,
              "#0d0887"
             ],
             [
              0.1111111111111111,
              "#46039f"
             ],
             [
              0.2222222222222222,
              "#7201a8"
             ],
             [
              0.3333333333333333,
              "#9c179e"
             ],
             [
              0.4444444444444444,
              "#bd3786"
             ],
             [
              0.5555555555555556,
              "#d8576b"
             ],
             [
              0.6666666666666666,
              "#ed7953"
             ],
             [
              0.7777777777777778,
              "#fb9f3a"
             ],
             [
              0.8888888888888888,
              "#fdca26"
             ],
             [
              1,
              "#f0f921"
             ]
            ],
            "type": "heatmapgl"
           }
          ],
          "histogram": [
           {
            "marker": {
             "pattern": {
              "fillmode": "overlay",
              "size": 10,
              "solidity": 0.2
             }
            },
            "type": "histogram"
           }
          ],
          "histogram2d": [
           {
            "colorbar": {
             "outlinewidth": 0,
             "ticks": ""
            },
            "colorscale": [
             [
              0,
              "#0d0887"
             ],
             [
              0.1111111111111111,
              "#46039f"
             ],
             [
              0.2222222222222222,
              "#7201a8"
             ],
             [
              0.3333333333333333,
              "#9c179e"
             ],
             [
              0.4444444444444444,
              "#bd3786"
             ],
             [
              0.5555555555555556,
              "#d8576b"
             ],
             [
              0.6666666666666666,
              "#ed7953"
             ],
             [
              0.7777777777777778,
              "#fb9f3a"
             ],
             [
              0.8888888888888888,
              "#fdca26"
             ],
             [
              1,
              "#f0f921"
             ]
            ],
            "type": "histogram2d"
           }
          ],
          "histogram2dcontour": [
           {
            "colorbar": {
             "outlinewidth": 0,
             "ticks": ""
            },
            "colorscale": [
             [
              0,
              "#0d0887"
             ],
             [
              0.1111111111111111,
              "#46039f"
             ],
             [
              0.2222222222222222,
              "#7201a8"
             ],
             [
              0.3333333333333333,
              "#9c179e"
             ],
             [
              0.4444444444444444,
              "#bd3786"
             ],
             [
              0.5555555555555556,
              "#d8576b"
             ],
             [
              0.6666666666666666,
              "#ed7953"
             ],
             [
              0.7777777777777778,
              "#fb9f3a"
             ],
             [
              0.8888888888888888,
              "#fdca26"
             ],
             [
              1,
              "#f0f921"
             ]
            ],
            "type": "histogram2dcontour"
           }
          ],
          "mesh3d": [
           {
            "colorbar": {
             "outlinewidth": 0,
             "ticks": ""
            },
            "type": "mesh3d"
           }
          ],
          "parcoords": [
           {
            "line": {
             "colorbar": {
              "outlinewidth": 0,
              "ticks": ""
             }
            },
            "type": "parcoords"
           }
          ],
          "pie": [
           {
            "automargin": true,
            "type": "pie"
           }
          ],
          "scatter": [
           {
            "fillpattern": {
             "fillmode": "overlay",
             "size": 10,
             "solidity": 0.2
            },
            "type": "scatter"
           }
          ],
          "scatter3d": [
           {
            "line": {
             "colorbar": {
              "outlinewidth": 0,
              "ticks": ""
             }
            },
            "marker": {
             "colorbar": {
              "outlinewidth": 0,
              "ticks": ""
             }
            },
            "type": "scatter3d"
           }
          ],
          "scattercarpet": [
           {
            "marker": {
             "colorbar": {
              "outlinewidth": 0,
              "ticks": ""
             }
            },
            "type": "scattercarpet"
           }
          ],
          "scattergeo": [
           {
            "marker": {
             "colorbar": {
              "outlinewidth": 0,
              "ticks": ""
             }
            },
            "type": "scattergeo"
           }
          ],
          "scattergl": [
           {
            "marker": {
             "colorbar": {
              "outlinewidth": 0,
              "ticks": ""
             }
            },
            "type": "scattergl"
           }
          ],
          "scattermapbox": [
           {
            "marker": {
             "colorbar": {
              "outlinewidth": 0,
              "ticks": ""
             }
            },
            "type": "scattermapbox"
           }
          ],
          "scatterpolar": [
           {
            "marker": {
             "colorbar": {
              "outlinewidth": 0,
              "ticks": ""
             }
            },
            "type": "scatterpolar"
           }
          ],
          "scatterpolargl": [
           {
            "marker": {
             "colorbar": {
              "outlinewidth": 0,
              "ticks": ""
             }
            },
            "type": "scatterpolargl"
           }
          ],
          "scatterternary": [
           {
            "marker": {
             "colorbar": {
              "outlinewidth": 0,
              "ticks": ""
             }
            },
            "type": "scatterternary"
           }
          ],
          "surface": [
           {
            "colorbar": {
             "outlinewidth": 0,
             "ticks": ""
            },
            "colorscale": [
             [
              0,
              "#0d0887"
             ],
             [
              0.1111111111111111,
              "#46039f"
             ],
             [
              0.2222222222222222,
              "#7201a8"
             ],
             [
              0.3333333333333333,
              "#9c179e"
             ],
             [
              0.4444444444444444,
              "#bd3786"
             ],
             [
              0.5555555555555556,
              "#d8576b"
             ],
             [
              0.6666666666666666,
              "#ed7953"
             ],
             [
              0.7777777777777778,
              "#fb9f3a"
             ],
             [
              0.8888888888888888,
              "#fdca26"
             ],
             [
              1,
              "#f0f921"
             ]
            ],
            "type": "surface"
           }
          ],
          "table": [
           {
            "cells": {
             "fill": {
              "color": "#EBF0F8"
             },
             "line": {
              "color": "white"
             }
            },
            "header": {
             "fill": {
              "color": "#C8D4E3"
             },
             "line": {
              "color": "white"
             }
            },
            "type": "table"
           }
          ]
         },
         "layout": {
          "annotationdefaults": {
           "arrowcolor": "#2a3f5f",
           "arrowhead": 0,
           "arrowwidth": 1
          },
          "autotypenumbers": "strict",
          "coloraxis": {
           "colorbar": {
            "outlinewidth": 0,
            "ticks": ""
           }
          },
          "colorscale": {
           "diverging": [
            [
             0,
             "#8e0152"
            ],
            [
             0.1,
             "#c51b7d"
            ],
            [
             0.2,
             "#de77ae"
            ],
            [
             0.3,
             "#f1b6da"
            ],
            [
             0.4,
             "#fde0ef"
            ],
            [
             0.5,
             "#f7f7f7"
            ],
            [
             0.6,
             "#e6f5d0"
            ],
            [
             0.7,
             "#b8e186"
            ],
            [
             0.8,
             "#7fbc41"
            ],
            [
             0.9,
             "#4d9221"
            ],
            [
             1,
             "#276419"
            ]
           ],
           "sequential": [
            [
             0,
             "#0d0887"
            ],
            [
             0.1111111111111111,
             "#46039f"
            ],
            [
             0.2222222222222222,
             "#7201a8"
            ],
            [
             0.3333333333333333,
             "#9c179e"
            ],
            [
             0.4444444444444444,
             "#bd3786"
            ],
            [
             0.5555555555555556,
             "#d8576b"
            ],
            [
             0.6666666666666666,
             "#ed7953"
            ],
            [
             0.7777777777777778,
             "#fb9f3a"
            ],
            [
             0.8888888888888888,
             "#fdca26"
            ],
            [
             1,
             "#f0f921"
            ]
           ],
           "sequentialminus": [
            [
             0,
             "#0d0887"
            ],
            [
             0.1111111111111111,
             "#46039f"
            ],
            [
             0.2222222222222222,
             "#7201a8"
            ],
            [
             0.3333333333333333,
             "#9c179e"
            ],
            [
             0.4444444444444444,
             "#bd3786"
            ],
            [
             0.5555555555555556,
             "#d8576b"
            ],
            [
             0.6666666666666666,
             "#ed7953"
            ],
            [
             0.7777777777777778,
             "#fb9f3a"
            ],
            [
             0.8888888888888888,
             "#fdca26"
            ],
            [
             1,
             "#f0f921"
            ]
           ]
          },
          "colorway": [
           "#636efa",
           "#EF553B",
           "#00cc96",
           "#ab63fa",
           "#FFA15A",
           "#19d3f3",
           "#FF6692",
           "#B6E880",
           "#FF97FF",
           "#FECB52"
          ],
          "font": {
           "color": "#2a3f5f"
          },
          "geo": {
           "bgcolor": "white",
           "lakecolor": "white",
           "landcolor": "#E5ECF6",
           "showlakes": true,
           "showland": true,
           "subunitcolor": "white"
          },
          "hoverlabel": {
           "align": "left"
          },
          "hovermode": "closest",
          "mapbox": {
           "style": "light"
          },
          "paper_bgcolor": "white",
          "plot_bgcolor": "#E5ECF6",
          "polar": {
           "angularaxis": {
            "gridcolor": "white",
            "linecolor": "white",
            "ticks": ""
           },
           "bgcolor": "#E5ECF6",
           "radialaxis": {
            "gridcolor": "white",
            "linecolor": "white",
            "ticks": ""
           }
          },
          "scene": {
           "xaxis": {
            "backgroundcolor": "#E5ECF6",
            "gridcolor": "white",
            "gridwidth": 2,
            "linecolor": "white",
            "showbackground": true,
            "ticks": "",
            "zerolinecolor": "white"
           },
           "yaxis": {
            "backgroundcolor": "#E5ECF6",
            "gridcolor": "white",
            "gridwidth": 2,
            "linecolor": "white",
            "showbackground": true,
            "ticks": "",
            "zerolinecolor": "white"
           },
           "zaxis": {
            "backgroundcolor": "#E5ECF6",
            "gridcolor": "white",
            "gridwidth": 2,
            "linecolor": "white",
            "showbackground": true,
            "ticks": "",
            "zerolinecolor": "white"
           }
          },
          "shapedefaults": {
           "line": {
            "color": "#2a3f5f"
           }
          },
          "ternary": {
           "aaxis": {
            "gridcolor": "white",
            "linecolor": "white",
            "ticks": ""
           },
           "baxis": {
            "gridcolor": "white",
            "linecolor": "white",
            "ticks": ""
           },
           "bgcolor": "#E5ECF6",
           "caxis": {
            "gridcolor": "white",
            "linecolor": "white",
            "ticks": ""
           }
          },
          "title": {
           "x": 0.05
          },
          "xaxis": {
           "automargin": true,
           "gridcolor": "white",
           "linecolor": "white",
           "ticks": "",
           "title": {
            "standoff": 15
           },
           "zerolinecolor": "white",
           "zerolinewidth": 2
          },
          "yaxis": {
           "automargin": true,
           "gridcolor": "white",
           "linecolor": "white",
           "ticks": "",
           "title": {
            "standoff": 15
           },
           "zerolinecolor": "white",
           "zerolinewidth": 2
          }
         }
        },
        "title": {
         "text": "Total Penjualan Harian (Keseluruhan)"
        },
        "xaxis": {
         "anchor": "y",
         "domain": [
          0,
          1
         ],
         "tickangle": 45,
         "title": {
          "text": "Tanggal"
         }
        },
        "yaxis": {
         "anchor": "x",
         "domain": [
          0,
          1
         ],
         "title": {
          "text": "Total Penjualan"
         }
        }
       }
      }
     },
     "metadata": {},
     "output_type": "display_data"
    }
   ],
   "source": [
    "# grouping total penjualan per hari\n",
    "daily_sales = df.groupby('Date')['new_Total'].sum().reset_index()\n",
    "\n",
    "# Visualisasi penjualan harian (seluruh waktu)\n",
    "fig = px.line(daily_sales, x='Date', y='new_Total', title='Total Penjualan Harian (Keseluruhan)', labels={'Date': 'Tanggal', 'new_Total': 'Total Penjualan'}, markers=True)\n",
    "fig.update_layout(xaxis_tickangle=45)\n",
    "fig.show()"
   ]
  },
  {
   "cell_type": "code",
   "execution_count": 21,
   "id": "2e22c7c4",
   "metadata": {},
   "outputs": [
    {
     "data": {
      "image/png": "[encoded data removed]",
      "text/plain": [
       "<Figure size 3600x2800 with 1 Axes>"
      ]
     },
     "metadata": {},
     "output_type": "display_data"
    }
   ],
   "source": [
    "# grouping total penjualan per hari\n",
    "daily_sales = df.groupby('Date')['new_Total'].sum().reset_index()\n",
    "\n",
    "plt.figure(figsize= (36,28))\n",
    "plt.plot(daily_sales['Date'],daily_sales['new_Total'], marker='o', linestyle = '-')\n",
    "\n",
    "# add annotation\n",
    "for i, (xi, yi) in enumerate(zip(daily_sales['Date'],daily_sales['new_Total'])):\n",
    "    plt.annotate(f'({yi:,.2f})', (xi,yi), textcoords = 'offset points', xytext = (0,10), ha='center')\n",
    "\n",
    "# plt.plot(daily_sales['Date'],daily_sales['new_Total'])\n",
    "plt.show()"
   ]
  },
  {
   "cell_type": "markdown",
   "id": "3c83e9ca",
   "metadata": {},
   "source": [
    "Dari sini bisa dilihat bahwa penjualan tertinggi terjadi pada tanggal 09 maret 2019 sebesar $7,474.04, sedangkan penjualan terendah ada pada tanggal 13 Februari 2019 sebesar $934.25. "
   ]
  },
  {
   "cell_type": "markdown",
   "id": "d06f8268",
   "metadata": {},
   "source": [
    "2. Persebaran Gender Customer yang sudah member"
   ]
  },
  {
   "cell_type": "code",
   "execution_count": 22,
   "id": "50a2ebb2",
   "metadata": {},
   "outputs": [
    {
     "data": {
      "text/html": [
       "<div>\n",
       "<style scoped>\n",
       "    .dataframe tbody tr th:only-of-type {\n",
       "        vertical-align: middle;\n",
       "    }\n",
       "\n",
       "    .dataframe tbody tr th {\n",
       "        vertical-align: top;\n",
       "    }\n",
       "\n",
       "    .dataframe thead th {\n",
       "        text-align: right;\n",
       "    }\n",
       "</style>\n",
       "<table border=\"1\" class=\"dataframe\">\n",
       "  <thead>\n",
       "    <tr style=\"text-align: right;\">\n",
       "      <th></th>\n",
       "      <th>Invoice ID</th>\n",
       "      <th>Branch</th>\n",
       "      <th>City</th>\n",
       "      <th>Customer type</th>\n",
       "      <th>Gender</th>\n",
       "      <th>Product line</th>\n",
       "      <th>Unit price</th>\n",
       "      <th>Quantity</th>\n",
       "      <th>Date</th>\n",
       "      <th>Time</th>\n",
       "      <th>...</th>\n",
       "      <th>new_Tax 5%</th>\n",
       "      <th>new_Total</th>\n",
       "      <th>new_gross income</th>\n",
       "      <th>new_cogs</th>\n",
       "      <th>new_gross margin percentage</th>\n",
       "      <th>Month</th>\n",
       "      <th>Year</th>\n",
       "      <th>Week</th>\n",
       "      <th>Gender_code</th>\n",
       "      <th>Day</th>\n",
       "    </tr>\n",
       "  </thead>\n",
       "  <tbody>\n",
       "    <tr>\n",
       "      <th>1</th>\n",
       "      <td>101-81-4070</td>\n",
       "      <td>C</td>\n",
       "      <td>Naypyitaw</td>\n",
       "      <td>Member</td>\n",
       "      <td>Female</td>\n",
       "      <td>Health and beauty</td>\n",
       "      <td>62.82</td>\n",
       "      <td>2</td>\n",
       "      <td>2019-01-17</td>\n",
       "      <td>1900-01-01 12:36:00</td>\n",
       "      <td>...</td>\n",
       "      <td>6.28</td>\n",
       "      <td>131.92</td>\n",
       "      <td>6.28</td>\n",
       "      <td>125.64</td>\n",
       "      <td>4.76</td>\n",
       "      <td>January</td>\n",
       "      <td>2019</td>\n",
       "      <td>3</td>\n",
       "      <td>1</td>\n",
       "      <td>Thursday</td>\n",
       "    </tr>\n",
       "    <tr>\n",
       "      <th>2</th>\n",
       "      <td>102-06-2002</td>\n",
       "      <td>C</td>\n",
       "      <td>Naypyitaw</td>\n",
       "      <td>Member</td>\n",
       "      <td>Male</td>\n",
       "      <td>Sports and travel</td>\n",
       "      <td>25.25</td>\n",
       "      <td>5</td>\n",
       "      <td>2019-03-20</td>\n",
       "      <td>1900-01-01 17:52:00</td>\n",
       "      <td>...</td>\n",
       "      <td>6.31</td>\n",
       "      <td>132.56</td>\n",
       "      <td>6.31</td>\n",
       "      <td>126.25</td>\n",
       "      <td>4.76</td>\n",
       "      <td>March</td>\n",
       "      <td>2019</td>\n",
       "      <td>2</td>\n",
       "      <td>0</td>\n",
       "      <td>Wednesday</td>\n",
       "    </tr>\n",
       "    <tr>\n",
       "      <th>3</th>\n",
       "      <td>102-77-2261</td>\n",
       "      <td>C</td>\n",
       "      <td>Naypyitaw</td>\n",
       "      <td>Member</td>\n",
       "      <td>Male</td>\n",
       "      <td>Health and beauty</td>\n",
       "      <td>65.31</td>\n",
       "      <td>7</td>\n",
       "      <td>2019-03-05</td>\n",
       "      <td>1900-01-01 18:02:00</td>\n",
       "      <td>...</td>\n",
       "      <td>22.86</td>\n",
       "      <td>480.03</td>\n",
       "      <td>22.86</td>\n",
       "      <td>457.17</td>\n",
       "      <td>4.76</td>\n",
       "      <td>March</td>\n",
       "      <td>2019</td>\n",
       "      <td>1</td>\n",
       "      <td>0</td>\n",
       "      <td>Tuesday</td>\n",
       "    </tr>\n",
       "    <tr>\n",
       "      <th>4</th>\n",
       "      <td>105-10-6182</td>\n",
       "      <td>A</td>\n",
       "      <td>Yangon</td>\n",
       "      <td>Member</td>\n",
       "      <td>Male</td>\n",
       "      <td>Fashion accessories</td>\n",
       "      <td>21.48</td>\n",
       "      <td>2</td>\n",
       "      <td>2019-02-27</td>\n",
       "      <td>1900-01-01 12:22:00</td>\n",
       "      <td>...</td>\n",
       "      <td>2.15</td>\n",
       "      <td>45.11</td>\n",
       "      <td>2.15</td>\n",
       "      <td>42.96</td>\n",
       "      <td>4.76</td>\n",
       "      <td>February</td>\n",
       "      <td>2019</td>\n",
       "      <td>2</td>\n",
       "      <td>0</td>\n",
       "      <td>Wednesday</td>\n",
       "    </tr>\n",
       "    <tr>\n",
       "      <th>5</th>\n",
       "      <td>105-31-1824</td>\n",
       "      <td>A</td>\n",
       "      <td>Yangon</td>\n",
       "      <td>Member</td>\n",
       "      <td>Male</td>\n",
       "      <td>Sports and travel</td>\n",
       "      <td>69.52</td>\n",
       "      <td>7</td>\n",
       "      <td>2019-02-01</td>\n",
       "      <td>1900-01-01 15:10:00</td>\n",
       "      <td>...</td>\n",
       "      <td>24.33</td>\n",
       "      <td>510.97</td>\n",
       "      <td>24.33</td>\n",
       "      <td>486.64</td>\n",
       "      <td>4.76</td>\n",
       "      <td>February</td>\n",
       "      <td>2019</td>\n",
       "      <td>4</td>\n",
       "      <td>0</td>\n",
       "      <td>Friday</td>\n",
       "    </tr>\n",
       "  </tbody>\n",
       "</table>\n",
       "<p>5 rows × 22 columns</p>\n",
       "</div>"
      ],
      "text/plain": [
       "    Invoice ID Branch       City Customer type  Gender         Product line  \\\n",
       "1  101-81-4070      C  Naypyitaw        Member  Female    Health and beauty   \n",
       "2  102-06-2002      C  Naypyitaw        Member    Male    Sports and travel   \n",
       "3  102-77-2261      C  Naypyitaw        Member    Male    Health and beauty   \n",
       "4  105-10-6182      A     Yangon        Member    Male  Fashion accessories   \n",
       "5  105-31-1824      A     Yangon        Member    Male    Sports and travel   \n",
       "\n",
       "   Unit price  Quantity       Date                Time  ... new_Tax 5%  \\\n",
       "1       62.82         2 2019-01-17 1900-01-01 12:36:00  ...       6.28   \n",
       "2       25.25         5 2019-03-20 1900-01-01 17:52:00  ...       6.31   \n",
       "3       65.31         7 2019-03-05 1900-01-01 18:02:00  ...      22.86   \n",
       "4       21.48         2 2019-02-27 1900-01-01 12:22:00  ...       2.15   \n",
       "5       69.52         7 2019-02-01 1900-01-01 15:10:00  ...      24.33   \n",
       "\n",
       "   new_Total  new_gross income  new_cogs  new_gross margin percentage  \\\n",
       "1     131.92              6.28    125.64                         4.76   \n",
       "2     132.56              6.31    126.25                         4.76   \n",
       "3     480.03             22.86    457.17                         4.76   \n",
       "4      45.11              2.15     42.96                         4.76   \n",
       "5     510.97             24.33    486.64                         4.76   \n",
       "\n",
       "      Month  Year Week  Gender_code        Day  \n",
       "1   January  2019    3            1   Thursday  \n",
       "2     March  2019    2            0  Wednesday  \n",
       "3     March  2019    1            0    Tuesday  \n",
       "4  February  2019    2            0  Wednesday  \n",
       "5  February  2019    4            0     Friday  \n",
       "\n",
       "[5 rows x 22 columns]"
      ]
     },
     "execution_count": 22,
     "metadata": {},
     "output_type": "execute_result"
    }
   ],
   "source": [
    "# hitung persebaran gender yang sudah menjadi member\n",
    "df_member = df[df['Customer type'] == 'Member']\n",
    "df_member.head()"
   ]
  },
  {
   "cell_type": "code",
   "execution_count": 23,
   "id": "57a0183c",
   "metadata": {},
   "outputs": [
    {
     "data": {
      "application/vnd.plotly.v1+json": {
       "config": {
        "plotlyServerURL": "https://plot.ly"
       },
       "data": [
        {
         "domain": {
          "x": [
           0,
           1
          ],
          "y": [
           0,
           1
          ]
         },
         "hole": 0.5,
         "hovertemplate": "Gender=%{label}<extra></extra>",
         "labels": [
          "Female",
          "Male",
          "Male",
          "Male",
          "Male",
          "Male",
          "Female",
          "Female",
          "Male",
          "Female",
          "Female",
          "Female",
          "Male",
          "Female",
          "Female",
          "Male",
          "Male",
          "Female",
          "Female",
          "Male",
          "Female",
          "Male",
          "Male",
          "Female",
          "Female",
          "Male",
          "Female",
          "Male",
          "Male",
          "Male",
          "Female",
          "Female",
          "Male",
          "Male",
          "Male",
          "Male",
          "Female",
          "Female",
          "Male",
          "Female",
          "Female",
          "Male",
          "Male",
          "Male",
          "Female",
          "Male",
          "Male",
          "Male",
          "Male",
          "Male",
          "Female",
          "Male",
          "Female",
          "Female",
          "Female",
          "Female",
          "Male",
          "Male",
          "Male",
          "Female",
          "Male",
          "Female",
          "Male",
          "Female",
          "Male",
          "Male",
          "Male",
          "Male",
          "Female",
          "Female",
          "Female",
          "Female",
          "Female",
          "Female",
          "Male",
          "Female",
          "Male",
          "Female",
          "Female",
          "Female",
          "Female",
          "Female",
          "Female",
          "Female",
          "Male",
          "Male",
          "Male",
          "Female",
          "Male",
          "Male",
          "Female",
          "Male",
          "Male",
          "Female",
          "Female",
          "Male",
          "Female",
          "Male",
          "Male",
          "Male",
          "Male",
          "Male",
          "Male",
          "Female",
          "Male",
          "Female",
          "Male",
          "Female",
          "Male",
          "Male",
          "Female",
          "Female",
          "Male",
          "Female",
          "Female",
          "Male",
          "Female",
          "Female",
          "Male",
          "Male",
          "Female",
          "Female",
          "Male",
          "Female",
          "Female",
          "Male",
          "Male",
          "Male",
          "Male",
          "Female",
          "Female",
          "Female",
          "Female",
          "Male",
          "Male",
          "Male",
          "Female",
          "Male",
          "Female",
          "Female",
          "Male",
          "Female",
          "Male",
          "Female",
          "Male",
          "Male",
          "Female",
          "Female",
          "Female",
          "Female",
          "Male",
          "Female",
          "Male",
          "Female",
          "Male",
          "Female",
          "Male",
          "Male",
          "Male",
          "Female",
          "Male",
          "Female",
          "Female",
          "Female",
          "Male",
          "Male",
          "Female",
          "Male",
          "Male",
          "Male",
          "Female",
          "Male",
          "Female",
          "Male",
          "Female",
          "Female",
          "Female",
          "Male",
          "Female",
          "Female",
          "Female",
          "Female",
          "Female",
          "Female",
          "Male",
          "Male",
          "Female",
          "Male",
          "Male",
          "Male",
          "Female",
          "Male",
          "Female",
          "Female",
          "Male",
          "Male",
          "Female",
          "Female",
          "Female",
          "Female",
          "Female",
          "Female",
          "Female",
          "Female",
          "Female",
          "Male",
          "Female",
          "Female",
          "Male",
          "Male",
          "Female",
          "Male",
          "Female",
          "Female",
          "Female",
          "Male",
          "Female",
          "Female",
          "Female",
          "Female",
          "Female",
          "Male",
          "Female",
          "Female",
          "Male",
          "Female",
          "Female",
          "Male",
          "Male",
          "Male",
          "Female",
          "Female",
          "Female",
          "Male",
          "Male",
          "Male",
          "Male",
          "Female",
          "Female",
          "Female",
          "Male",
          "Female",
          "Male",
          "Female",
          "Female",
          "Male",
          "Male",
          "Female",
          "Female",
          "Male",
          "Male",
          "Male",
          "Female",
          "Male",
          "Female",
          "Female",
          "Female",
          "Female",
          "Male",
          "Female",
          "Male",
          "Male",
          "Male",
          "Female",
          "Female",
          "Female",
          "Female",
          "Female",
          "Female",
          "Male",
          "Male",
          "Male",
          "Male",
          "Female",
          "Female",
          "Male",
          "Female",
          "Male",
          "Male",
          "Male",
          "Male",
          "Female",
          "Female",
          "Female",
          "Female",
          "Female",
          "Male",
          "Female",
          "Female",
          "Male",
          "Male",
          "Male",
          "Male",
          "Female",
          "Female",
          "Female",
          "Female",
          "Male",
          "Female",
          "Male",
          "Female",
          "Female",
          "Female",
          "Male",
          "Female",
          "Female",
          "Male",
          "Female",
          "Male",
          "Male",
          "Male",
          "Male",
          "Male",
          "Female",
          "Female",
          "Male",
          "Male",
          "Male",
          "Female",
          "Male",
          "Male",
          "Female",
          "Male",
          "Male",
          "Female",
          "Male",
          "Male",
          "Female",
          "Male",
          "Female",
          "Female",
          "Male",
          "Male",
          "Female",
          "Female",
          "Male",
          "Female",
          "Male",
          "Female",
          "Male",
          "Male",
          "Male",
          "Female",
          "Female",
          "Female",
          "Female",
          "Male",
          "Male",
          "Male",
          "Female",
          "Female",
          "Female",
          "Female",
          "Male",
          "Male",
          "Male",
          "Female",
          "Female",
          "Female",
          "Female",
          "Male",
          "Male",
          "Female",
          "Female",
          "Male",
          "Female",
          "Female",
          "Female",
          "Female",
          "Male",
          "Female",
          "Female",
          "Male",
          "Male",
          "Male",
          "Male",
          "Female",
          "Male",
          "Male",
          "Female",
          "Female",
          "Male",
          "Male",
          "Female",
          "Male",
          "Female",
          "Male",
          "Female",
          "Female",
          "Male",
          "Male",
          "Female",
          "Male",
          "Female",
          "Male",
          "Male",
          "Male",
          "Female",
          "Male",
          "Female",
          "Male",
          "Male",
          "Male",
          "Male",
          "Male",
          "Male",
          "Female",
          "Female",
          "Female",
          "Female",
          "Female",
          "Female",
          "Female",
          "Male",
          "Female",
          "Female",
          "Female",
          "Male",
          "Male",
          "Female",
          "Female",
          "Female",
          "Female",
          "Male",
          "Female",
          "Male",
          "Female",
          "Male",
          "Male",
          "Female",
          "Male",
          "Female",
          "Male",
          "Male",
          "Female",
          "Male",
          "Female",
          "Male",
          "Female",
          "Male",
          "Male",
          "Female",
          "Female",
          "Female",
          "Male",
          "Female",
          "Male",
          "Female",
          "Male",
          "Female",
          "Female",
          "Female",
          "Male",
          "Female",
          "Male",
          "Male",
          "Female",
          "Female",
          "Female",
          "Male",
          "Male",
          "Female",
          "Male",
          "Male",
          "Male",
          "Female",
          "Female",
          "Male",
          "Female",
          "Male",
          "Female",
          "Female",
          "Male",
          "Male",
          "Male",
          "Female",
          "Female",
          "Male",
          "Female",
          "Female",
          "Male",
          "Female",
          "Female",
          "Male",
          "Male",
          "Female",
          "Male",
          "Female",
          "Female",
          "Male",
          "Male",
          "Female",
          "Female",
          "Male",
          "Male",
          "Male",
          "Female",
          "Male",
          "Female",
          "Female",
          "Male"
         ],
         "legendgroup": "",
         "name": "",
         "showlegend": true,
         "textinfo": "percent+label",
         "type": "pie"
        }
       ],
       "layout": {
        "legend": {
         "tracegroupgap": 0
        },
        "template": {
         "data": {
          "bar": [
           {
            "error_x": {
             "color": "#2a3f5f"
            },
            "error_y": {
             "color": "#2a3f5f"
            },
            "marker": {
             "line": {
              "color": "#E5ECF6",
              "width": 0.5
             },
             "pattern": {
              "fillmode": "overlay",
              "size": 10,
              "solidity": 0.2
             }
            },
            "type": "bar"
           }
          ],
          "barpolar": [
           {
            "marker": {
             "line": {
              "color": "#E5ECF6",
              "width": 0.5
             },
             "pattern": {
              "fillmode": "overlay",
              "size": 10,
              "solidity": 0.2
             }
            },
            "type": "barpolar"
           }
          ],
          "carpet": [
           {
            "aaxis": {
             "endlinecolor": "#2a3f5f",
             "gridcolor": "white",
             "linecolor": "white",
             "minorgridcolor": "white",
             "startlinecolor": "#2a3f5f"
            },
            "baxis": {
             "endlinecolor": "#2a3f5f",
             "gridcolor": "white",
             "linecolor": "white",
             "minorgridcolor": "white",
             "startlinecolor": "#2a3f5f"
            },
            "type": "carpet"
           }
          ],
          "choropleth": [
           {
            "colorbar": {
             "outlinewidth": 0,
             "ticks": ""
            },
            "type": "choropleth"
           }
          ],
          "contour": [
           {
            "colorbar": {
             "outlinewidth": 0,
             "ticks": ""
            },
            "colorscale": [
             [
              0,
              "#0d0887"
             ],
             [
              0.1111111111111111,
              "#46039f"
             ],
             [
              0.2222222222222222,
              "#7201a8"
             ],
             [
              0.3333333333333333,
              "#9c179e"
             ],
             [
              0.4444444444444444,
              "#bd3786"
             ],
             [
              0.5555555555555556,
              "#d8576b"
             ],
             [
              0.6666666666666666,
              "#ed7953"
             ],
             [
              0.7777777777777778,
              "#fb9f3a"
             ],
             [
              0.8888888888888888,
              "#fdca26"
             ],
             [
              1,
              "#f0f921"
             ]
            ],
            "type": "contour"
           }
          ],
          "contourcarpet": [
           {
            "colorbar": {
             "outlinewidth": 0,
             "ticks": ""
            },
            "type": "contourcarpet"
           }
          ],
          "heatmap": [
           {
            "colorbar": {
             "outlinewidth": 0,
             "ticks": ""
            },
            "colorscale": [
             [
              0,
              "#0d0887"
             ],
             [
              0.1111111111111111,
              "#46039f"
             ],
             [
              0.2222222222222222,
              "#7201a8"
             ],
             [
              0.3333333333333333,
              "#9c179e"
             ],
             [
              0.4444444444444444,
              "#bd3786"
             ],
             [
              0.5555555555555556,
              "#d8576b"
             ],
             [
              0.6666666666666666,
              "#ed7953"
             ],
             [
              0.7777777777777778,
              "#fb9f3a"
             ],
             [
              0.8888888888888888,
              "#fdca26"
             ],
             [
              1,
              "#f0f921"
             ]
            ],
            "type": "heatmap"
           }
          ],
          "heatmapgl": [
           {
            "colorbar": {
             "outlinewidth": 0,
             "ticks": ""
            },
            "colorscale": [
             [
              0,
              "#0d0887"
             ],
             [
              0.1111111111111111,
              "#46039f"
             ],
             [
              0.2222222222222222,
              "#7201a8"
             ],
             [
              0.3333333333333333,
              "#9c179e"
             ],
             [
              0.4444444444444444,
              "#bd3786"
             ],
             [
              0.5555555555555556,
              "#d8576b"
             ],
             [
              0.6666666666666666,
              "#ed7953"
             ],
             [
              0.7777777777777778,
              "#fb9f3a"
             ],
             [
              0.8888888888888888,
              "#fdca26"
             ],
             [
              1,
              "#f0f921"
             ]
            ],
            "type": "heatmapgl"
           }
          ],
          "histogram": [
           {
            "marker": {
             "pattern": {
              "fillmode": "overlay",
              "size": 10,
              "solidity": 0.2
             }
            },
            "type": "histogram"
           }
          ],
          "histogram2d": [
           {
            "colorbar": {
             "outlinewidth": 0,
             "ticks": ""
            },
            "colorscale": [
             [
              0,
              "#0d0887"
             ],
             [
              0.1111111111111111,
              "#46039f"
             ],
             [
              0.2222222222222222,
              "#7201a8"
             ],
             [
              0.3333333333333333,
              "#9c179e"
             ],
             [
              0.4444444444444444,
              "#bd3786"
             ],
             [
              0.5555555555555556,
              "#d8576b"
             ],
             [
              0.6666666666666666,
              "#ed7953"
             ],
             [
              0.7777777777777778,
              "#fb9f3a"
             ],
             [
              0.8888888888888888,
              "#fdca26"
             ],
             [
              1,
              "#f0f921"
             ]
            ],
            "type": "histogram2d"
           }
          ],
          "histogram2dcontour": [
           {
            "colorbar": {
             "outlinewidth": 0,
             "ticks": ""
            },
            "colorscale": [
             [
              0,
              "#0d0887"
             ],
             [
              0.1111111111111111,
              "#46039f"
             ],
             [
              0.2222222222222222,
              "#7201a8"
             ],
             [
              0.3333333333333333,
              "#9c179e"
             ],
             [
              0.4444444444444444,
              "#bd3786"
             ],
             [
              0.5555555555555556,
              "#d8576b"
             ],
             [
              0.6666666666666666,
              "#ed7953"
             ],
             [
              0.7777777777777778,
              "#fb9f3a"
             ],
             [
              0.8888888888888888,
              "#fdca26"
             ],
             [
              1,
              "#f0f921"
             ]
            ],
            "type": "histogram2dcontour"
           }
          ],
          "mesh3d": [
           {
            "colorbar": {
             "outlinewidth": 0,
             "ticks": ""
            },
            "type": "mesh3d"
           }
          ],
          "parcoords": [
           {
            "line": {
             "colorbar": {
              "outlinewidth": 0,
              "ticks": ""
             }
            },
            "type": "parcoords"
           }
          ],
          "pie": [
           {
            "automargin": true,
            "type": "pie"
           }
          ],
          "scatter": [
           {
            "fillpattern": {
             "fillmode": "overlay",
             "size": 10,
             "solidity": 0.2
            },
            "type": "scatter"
           }
          ],
          "scatter3d": [
           {
            "line": {
             "colorbar": {
              "outlinewidth": 0,
              "ticks": ""
             }
            },
            "marker": {
             "colorbar": {
              "outlinewidth": 0,
              "ticks": ""
             }
            },
            "type": "scatter3d"
           }
          ],
          "scattercarpet": [
           {
            "marker": {
             "colorbar": {
              "outlinewidth": 0,
              "ticks": ""
             }
            },
            "type": "scattercarpet"
           }
          ],
          "scattergeo": [
           {
            "marker": {
             "colorbar": {
              "outlinewidth": 0,
              "ticks": ""
             }
            },
            "type": "scattergeo"
           }
          ],
          "scattergl": [
           {
            "marker": {
             "colorbar": {
              "outlinewidth": 0,
              "ticks": ""
             }
            },
            "type": "scattergl"
           }
          ],
          "scattermapbox": [
           {
            "marker": {
             "colorbar": {
              "outlinewidth": 0,
              "ticks": ""
             }
            },
            "type": "scattermapbox"
           }
          ],
          "scatterpolar": [
           {
            "marker": {
             "colorbar": {
              "outlinewidth": 0,
              "ticks": ""
             }
            },
            "type": "scatterpolar"
           }
          ],
          "scatterpolargl": [
           {
            "marker": {
             "colorbar": {
              "outlinewidth": 0,
              "ticks": ""
             }
            },
            "type": "scatterpolargl"
           }
          ],
          "scatterternary": [
           {
            "marker": {
             "colorbar": {
              "outlinewidth": 0,
              "ticks": ""
             }
            },
            "type": "scatterternary"
           }
          ],
          "surface": [
           {
            "colorbar": {
             "outlinewidth": 0,
             "ticks": ""
            },
            "colorscale": [
             [
              0,
              "#0d0887"
             ],
             [
              0.1111111111111111,
              "#46039f"
             ],
             [
              0.2222222222222222,
              "#7201a8"
             ],
             [
              0.3333333333333333,
              "#9c179e"
             ],
             [
              0.4444444444444444,
              "#bd3786"
             ],
             [
              0.5555555555555556,
              "#d8576b"
             ],
             [
              0.6666666666666666,
              "#ed7953"
             ],
             [
              0.7777777777777778,
              "#fb9f3a"
             ],
             [
              0.8888888888888888,
              "#fdca26"
             ],
             [
              1,
              "#f0f921"
             ]
            ],
            "type": "surface"
           }
          ],
          "table": [
           {
            "cells": {
             "fill": {
              "color": "#EBF0F8"
             },
             "line": {
              "color": "white"
             }
            },
            "header": {
             "fill": {
              "color": "#C8D4E3"
             },
             "line": {
              "color": "white"
             }
            },
            "type": "table"
           }
          ]
         },
         "layout": {
          "annotationdefaults": {
           "arrowcolor": "#2a3f5f",
           "arrowhead": 0,
           "arrowwidth": 1
          },
          "autotypenumbers": "strict",
          "coloraxis": {
           "colorbar": {
            "outlinewidth": 0,
            "ticks": ""
           }
          },
          "colorscale": {
           "diverging": [
            [
             0,
             "#8e0152"
            ],
            [
             0.1,
             "#c51b7d"
            ],
            [
             0.2,
             "#de77ae"
            ],
            [
             0.3,
             "#f1b6da"
            ],
            [
             0.4,
             "#fde0ef"
            ],
            [
             0.5,
             "#f7f7f7"
            ],
            [
             0.6,
             "#e6f5d0"
            ],
            [
             0.7,
             "#b8e186"
            ],
            [
             0.8,
             "#7fbc41"
            ],
            [
             0.9,
             "#4d9221"
            ],
            [
             1,
             "#276419"
            ]
           ],
           "sequential": [
            [
             0,
             "#0d0887"
            ],
            [
             0.1111111111111111,
             "#46039f"
            ],
            [
             0.2222222222222222,
             "#7201a8"
            ],
            [
             0.3333333333333333,
             "#9c179e"
            ],
            [
             0.4444444444444444,
             "#bd3786"
            ],
            [
             0.5555555555555556,
             "#d8576b"
            ],
            [
             0.6666666666666666,
             "#ed7953"
            ],
            [
             0.7777777777777778,
             "#fb9f3a"
            ],
            [
             0.8888888888888888,
             "#fdca26"
            ],
            [
             1,
             "#f0f921"
            ]
           ],
           "sequentialminus": [
            [
             0,
             "#0d0887"
            ],
            [
             0.1111111111111111,
             "#46039f"
            ],
            [
             0.2222222222222222,
             "#7201a8"
            ],
            [
             0.3333333333333333,
             "#9c179e"
            ],
            [
             0.4444444444444444,
             "#bd3786"
            ],
            [
             0.5555555555555556,
             "#d8576b"
            ],
            [
             0.6666666666666666,
             "#ed7953"
            ],
            [
             0.7777777777777778,
             "#fb9f3a"
            ],
            [
             0.8888888888888888,
             "#fdca26"
            ],
            [
             1,
             "#f0f921"
            ]
           ]
          },
          "colorway": [
           "#636efa",
           "#EF553B",
           "#00cc96",
           "#ab63fa",
           "#FFA15A",
           "#19d3f3",
           "#FF6692",
           "#B6E880",
           "#FF97FF",
           "#FECB52"
          ],
          "font": {
           "color": "#2a3f5f"
          },
          "geo": {
           "bgcolor": "white",
           "lakecolor": "white",
           "landcolor": "#E5ECF6",
           "showlakes": true,
           "showland": true,
           "subunitcolor": "white"
          },
          "hoverlabel": {
           "align": "left"
          },
          "hovermode": "closest",
          "mapbox": {
           "style": "light"
          },
          "paper_bgcolor": "white",
          "plot_bgcolor": "#E5ECF6",
          "polar": {
           "angularaxis": {
            "gridcolor": "white",
            "linecolor": "white",
            "ticks": ""
           },
           "bgcolor": "#E5ECF6",
           "radialaxis": {
            "gridcolor": "white",
            "linecolor": "white",
            "ticks": ""
           }
          },
          "scene": {
           "xaxis": {
            "backgroundcolor": "#E5ECF6",
            "gridcolor": "white",
            "gridwidth": 2,
            "linecolor": "white",
            "showbackground": true,
            "ticks": "",
            "zerolinecolor": "white"
           },
           "yaxis": {
            "backgroundcolor": "#E5ECF6",
            "gridcolor": "white",
            "gridwidth": 2,
            "linecolor": "white",
            "showbackground": true,
            "ticks": "",
            "zerolinecolor": "white"
           },
           "zaxis": {
            "backgroundcolor": "#E5ECF6",
            "gridcolor": "white",
            "gridwidth": 2,
            "linecolor": "white",
            "showbackground": true,
            "ticks": "",
            "zerolinecolor": "white"
           }
          },
          "shapedefaults": {
           "line": {
            "color": "#2a3f5f"
           }
          },
          "ternary": {
           "aaxis": {
            "gridcolor": "white",
            "linecolor": "white",
            "ticks": ""
           },
           "baxis": {
            "gridcolor": "white",
            "linecolor": "white",
            "ticks": ""
           },
           "bgcolor": "#E5ECF6",
           "caxis": {
            "gridcolor": "white",
            "linecolor": "white",
            "ticks": ""
           }
          },
          "title": {
           "x": 0.05
          },
          "xaxis": {
           "automargin": true,
           "gridcolor": "white",
           "linecolor": "white",
           "ticks": "",
           "title": {
            "standoff": 15
           },
           "zerolinecolor": "white",
           "zerolinewidth": 2
          },
          "yaxis": {
           "automargin": true,
           "gridcolor": "white",
           "linecolor": "white",
           "ticks": "",
           "title": {
            "standoff": 15
           },
           "zerolinecolor": "white",
           "zerolinewidth": 2
          }
         }
        },
        "title": {
         "text": "Persebaran Gender Customer yang Sudah Menjadi Member"
        }
       }
      }
     },
     "metadata": {},
     "output_type": "display_data"
    }
   ],
   "source": [
    "# Membuat Pie chart\n",
    "fig = px.pie(\n",
    "    df_member,\n",
    "    names='Gender',\n",
    "    title='Persebaran Gender Customer yang Sudah Menjadi Member',\n",
    "    hole=0.5,  # untuk tampilkan seperti donut chart\n",
    ")\n",
    "fig.update_traces(textinfo='percent+label')\n",
    "fig.show()"
   ]
  },
  {
   "cell_type": "code",
   "execution_count": 24,
   "id": "2b06288d",
   "metadata": {},
   "outputs": [
    {
     "data": {
      "text/html": [
       "<div>\n",
       "<style scoped>\n",
       "    .dataframe tbody tr th:only-of-type {\n",
       "        vertical-align: middle;\n",
       "    }\n",
       "\n",
       "    .dataframe tbody tr th {\n",
       "        vertical-align: top;\n",
       "    }\n",
       "\n",
       "    .dataframe thead th {\n",
       "        text-align: right;\n",
       "    }\n",
       "</style>\n",
       "<table border=\"1\" class=\"dataframe\">\n",
       "  <thead>\n",
       "    <tr style=\"text-align: right;\">\n",
       "      <th></th>\n",
       "      <th>Gender</th>\n",
       "      <th>Invoice ID</th>\n",
       "    </tr>\n",
       "  </thead>\n",
       "  <tbody>\n",
       "    <tr>\n",
       "      <th>0</th>\n",
       "      <td>Female</td>\n",
       "      <td>261</td>\n",
       "    </tr>\n",
       "    <tr>\n",
       "      <th>1</th>\n",
       "      <td>Male</td>\n",
       "      <td>240</td>\n",
       "    </tr>\n",
       "  </tbody>\n",
       "</table>\n",
       "</div>"
      ],
      "text/plain": [
       "   Gender  Invoice ID\n",
       "0  Female         261\n",
       "1    Male         240"
      ]
     },
     "execution_count": 24,
     "metadata": {},
     "output_type": "execute_result"
    }
   ],
   "source": [
    "Grouping_gender = df_member.groupby('Gender')['Invoice ID'].count().reset_index()\n",
    "Grouping_gender.head()"
   ]
  },
  {
   "cell_type": "code",
   "execution_count": 25,
   "id": "b933d022",
   "metadata": {},
   "outputs": [
    {
     "data": {
      "image/png": "[encoded data removed]",
      "text/plain": [
       "<Figure size 640x480 with 1 Axes>"
      ]
     },
     "metadata": {},
     "output_type": "display_data"
    }
   ],
   "source": [
    "# Create a pie chart\n",
    "plt.pie(Grouping_gender['Invoice ID'], labels=Grouping_gender['Gender'], autopct='%1.1f%%')\n",
    "\n",
    "# Adding circle in pie chart\n",
    "centre_circle = plt.Circle((0,0),0.70, fc='white')\n",
    "fig = plt.gcf()\n",
    "fig.gca().add_artist(centre_circle)\n",
    "\n",
    "# Adding title\n",
    "plt.title('Persebaran gender customer yang sudah menjadi member')\n",
    "\n",
    "# Adding legend\n",
    "plt.legend(Grouping_gender['Gender'], loc='upper right', title= 'Gender Color')\n",
    "plt.show()"
   ]
  },
  {
   "cell_type": "markdown",
   "id": "2fed8572",
   "metadata": {},
   "source": [
    "Berdasarkan hasil kalkulasi di atas, dapat dilihat bahwa customer yang sudah menjadi member lebih banyak perempuan(52.1%) dibandingkan dengan laki(47.9%). "
   ]
  },
  {
   "cell_type": "markdown",
   "id": "18ed5310",
   "metadata": {},
   "source": [
    "3. Produk yang paling banyak terjual"
   ]
  },
  {
   "cell_type": "code",
   "execution_count": 26,
   "id": "abd2bc66",
   "metadata": {},
   "outputs": [],
   "source": [
    "produk_terjual_terbanyak = df.groupby('Product line')['Quantity'].sum().reset_index().sort_values('Quantity', ascending=False)"
   ]
  },
  {
   "cell_type": "code",
   "execution_count": 27,
   "id": "feb66d16",
   "metadata": {},
   "outputs": [
    {
     "data": {
      "application/vnd.plotly.v1+json": {
       "config": {
        "plotlyServerURL": "https://plot.ly"
       },
       "data": [
        {
         "alignmentgroup": "True",
         "hovertemplate": "Kategori Produk=%{x}<br>Jumlah Terjual=%{marker.color}<extra></extra>",
         "legendgroup": "",
         "marker": {
          "color": [
           971,
           952,
           920,
           911,
           902,
           854
          ],
          "coloraxis": "coloraxis",
          "pattern": {
           "shape": ""
          }
         },
         "name": "",
         "offsetgroup": "",
         "orientation": "v",
         "showlegend": false,
         "textposition": "auto",
         "type": "bar",
         "x": [
          "Electronic accessories",
          "Food and beverages",
          "Sports and travel",
          "Home and lifestyle",
          "Fashion accessories",
          "Health and beauty"
         ],
         "xaxis": "x",
         "y": [
          971,
          952,
          920,
          911,
          902,
          854
         ],
         "yaxis": "y"
        }
       ],
       "layout": {
        "barmode": "relative",
        "coloraxis": {
         "colorbar": {
          "title": {
           "text": "Jumlah Terjual"
          }
         },
         "colorscale": [
          [
           0,
           "#0d0887"
          ],
          [
           0.1111111111111111,
           "#46039f"
          ],
          [
           0.2222222222222222,
           "#7201a8"
          ],
          [
           0.3333333333333333,
           "#9c179e"
          ],
          [
           0.4444444444444444,
           "#bd3786"
          ],
          [
           0.5555555555555556,
           "#d8576b"
          ],
          [
           0.6666666666666666,
           "#ed7953"
          ],
          [
           0.7777777777777778,
           "#fb9f3a"
          ],
          [
           0.8888888888888888,
           "#fdca26"
          ],
          [
           1,
           "#f0f921"
          ]
         ]
        },
        "legend": {
         "tracegroupgap": 0
        },
        "template": {
         "data": {
          "bar": [
           {
            "error_x": {
             "color": "#2a3f5f"
            },
            "error_y": {
             "color": "#2a3f5f"
            },
            "marker": {
             "line": {
              "color": "#E5ECF6",
              "width": 0.5
             },
             "pattern": {
              "fillmode": "overlay",
              "size": 10,
              "solidity": 0.2
             }
            },
            "type": "bar"
           }
          ],
          "barpolar": [
           {
            "marker": {
             "line": {
              "color": "#E5ECF6",
              "width": 0.5
             },
             "pattern": {
              "fillmode": "overlay",
              "size": 10,
              "solidity": 0.2
             }
            },
            "type": "barpolar"
           }
          ],
          "carpet": [
           {
            "aaxis": {
             "endlinecolor": "#2a3f5f",
             "gridcolor": "white",
             "linecolor": "white",
             "minorgridcolor": "white",
             "startlinecolor": "#2a3f5f"
            },
            "baxis": {
             "endlinecolor": "#2a3f5f",
             "gridcolor": "white",
             "linecolor": "white",
             "minorgridcolor": "white",
             "startlinecolor": "#2a3f5f"
            },
            "type": "carpet"
           }
          ],
          "choropleth": [
           {
            "colorbar": {
             "outlinewidth": 0,
             "ticks": ""
            },
            "type": "choropleth"
           }
          ],
          "contour": [
           {
            "colorbar": {
             "outlinewidth": 0,
             "ticks": ""
            },
            "colorscale": [
             [
              0,
              "#0d0887"
             ],
             [
              0.1111111111111111,
              "#46039f"
             ],
             [
              0.2222222222222222,
              "#7201a8"
             ],
             [
              0.3333333333333333,
              "#9c179e"
             ],
             [
              0.4444444444444444,
              "#bd3786"
             ],
             [
              0.5555555555555556,
              "#d8576b"
             ],
             [
              0.6666666666666666,
              "#ed7953"
             ],
             [
              0.7777777777777778,
              "#fb9f3a"
             ],
             [
              0.8888888888888888,
              "#fdca26"
             ],
             [
              1,
              "#f0f921"
             ]
            ],
            "type": "contour"
           }
          ],
          "contourcarpet": [
           {
            "colorbar": {
             "outlinewidth": 0,
             "ticks": ""
            },
            "type": "contourcarpet"
           }
          ],
          "heatmap": [
           {
            "colorbar": {
             "outlinewidth": 0,
             "ticks": ""
            },
            "colorscale": [
             [
              0,
              "#0d0887"
             ],
             [
              0.1111111111111111,
              "#46039f"
             ],
             [
              0.2222222222222222,
              "#7201a8"
             ],
             [
              0.3333333333333333,
              "#9c179e"
             ],
             [
              0.4444444444444444,
              "#bd3786"
             ],
             [
              0.5555555555555556,
              "#d8576b"
             ],
             [
              0.6666666666666666,
              "#ed7953"
             ],
             [
              0.7777777777777778,
              "#fb9f3a"
             ],
             [
              0.8888888888888888,
              "#fdca26"
             ],
             [
              1,
              "#f0f921"
             ]
            ],
            "type": "heatmap"
           }
          ],
          "heatmapgl": [
           {
            "colorbar": {
             "outlinewidth": 0,
             "ticks": ""
            },
            "colorscale": [
             [
              0,
              "#0d0887"
             ],
             [
              0.1111111111111111,
              "#46039f"
             ],
             [
              0.2222222222222222,
              "#7201a8"
             ],
             [
              0.3333333333333333,
              "#9c179e"
             ],
             [
              0.4444444444444444,
              "#bd3786"
             ],
             [
              0.5555555555555556,
              "#d8576b"
             ],
             [
              0.6666666666666666,
              "#ed7953"
             ],
             [
              0.7777777777777778,
              "#fb9f3a"
             ],
             [
              0.8888888888888888,
              "#fdca26"
             ],
             [
              1,
              "#f0f921"
             ]
            ],
            "type": "heatmapgl"
           }
          ],
          "histogram": [
           {
            "marker": {
             "pattern": {
              "fillmode": "overlay",
              "size": 10,
              "solidity": 0.2
             }
            },
            "type": "histogram"
           }
          ],
          "histogram2d": [
           {
            "colorbar": {
             "outlinewidth": 0,
             "ticks": ""
            },
            "colorscale": [
             [
              0,
              "#0d0887"
             ],
             [
              0.1111111111111111,
              "#46039f"
             ],
             [
              0.2222222222222222,
              "#7201a8"
             ],
             [
              0.3333333333333333,
              "#9c179e"
             ],
             [
              0.4444444444444444,
              "#bd3786"
             ],
             [
              0.5555555555555556,
              "#d8576b"
             ],
             [
              0.6666666666666666,
              "#ed7953"
             ],
             [
              0.7777777777777778,
              "#fb9f3a"
             ],
             [
              0.8888888888888888,
              "#fdca26"
             ],
             [
              1,
              "#f0f921"
             ]
            ],
            "type": "histogram2d"
           }
          ],
          "histogram2dcontour": [
           {
            "colorbar": {
             "outlinewidth": 0,
             "ticks": ""
            },
            "colorscale": [
             [
              0,
              "#0d0887"
             ],
             [
              0.1111111111111111,
              "#46039f"
             ],
             [
              0.2222222222222222,
              "#7201a8"
             ],
             [
              0.3333333333333333,
              "#9c179e"
             ],
             [
              0.4444444444444444,
              "#bd3786"
             ],
             [
              0.5555555555555556,
              "#d8576b"
             ],
             [
              0.6666666666666666,
              "#ed7953"
             ],
             [
              0.7777777777777778,
              "#fb9f3a"
             ],
             [
              0.8888888888888888,
              "#fdca26"
             ],
             [
              1,
              "#f0f921"
             ]
            ],
            "type": "histogram2dcontour"
           }
          ],
          "mesh3d": [
           {
            "colorbar": {
             "outlinewidth": 0,
             "ticks": ""
            },
            "type": "mesh3d"
           }
          ],
          "parcoords": [
           {
            "line": {
             "colorbar": {
              "outlinewidth": 0,
              "ticks": ""
             }
            },
            "type": "parcoords"
           }
          ],
          "pie": [
           {
            "automargin": true,
            "type": "pie"
           }
          ],
          "scatter": [
           {
            "fillpattern": {
             "fillmode": "overlay",
             "size": 10,
             "solidity": 0.2
            },
            "type": "scatter"
           }
          ],
          "scatter3d": [
           {
            "line": {
             "colorbar": {
              "outlinewidth": 0,
              "ticks": ""
             }
            },
            "marker": {
             "colorbar": {
              "outlinewidth": 0,
              "ticks": ""
             }
            },
            "type": "scatter3d"
           }
          ],
          "scattercarpet": [
           {
            "marker": {
             "colorbar": {
              "outlinewidth": 0,
              "ticks": ""
             }
            },
            "type": "scattercarpet"
           }
          ],
          "scattergeo": [
           {
            "marker": {
             "colorbar": {
              "outlinewidth": 0,
              "ticks": ""
             }
            },
            "type": "scattergeo"
           }
          ],
          "scattergl": [
           {
            "marker": {
             "colorbar": {
              "outlinewidth": 0,
              "ticks": ""
             }
            },
            "type": "scattergl"
           }
          ],
          "scattermapbox": [
           {
            "marker": {
             "colorbar": {
              "outlinewidth": 0,
              "ticks": ""
             }
            },
            "type": "scattermapbox"
           }
          ],
          "scatterpolar": [
           {
            "marker": {
             "colorbar": {
              "outlinewidth": 0,
              "ticks": ""
             }
            },
            "type": "scatterpolar"
           }
          ],
          "scatterpolargl": [
           {
            "marker": {
             "colorbar": {
              "outlinewidth": 0,
              "ticks": ""
             }
            },
            "type": "scatterpolargl"
           }
          ],
          "scatterternary": [
           {
            "marker": {
             "colorbar": {
              "outlinewidth": 0,
              "ticks": ""
             }
            },
            "type": "scatterternary"
           }
          ],
          "surface": [
           {
            "colorbar": {
             "outlinewidth": 0,
             "ticks": ""
            },
            "colorscale": [
             [
              0,
              "#0d0887"
             ],
             [
              0.1111111111111111,
              "#46039f"
             ],
             [
              0.2222222222222222,
              "#7201a8"
             ],
             [
              0.3333333333333333,
              "#9c179e"
             ],
             [
              0.4444444444444444,
              "#bd3786"
             ],
             [
              0.5555555555555556,
              "#d8576b"
             ],
             [
              0.6666666666666666,
              "#ed7953"
             ],
             [
              0.7777777777777778,
              "#fb9f3a"
             ],
             [
              0.8888888888888888,
              "#fdca26"
             ],
             [
              1,
              "#f0f921"
             ]
            ],
            "type": "surface"
           }
          ],
          "table": [
           {
            "cells": {
             "fill": {
              "color": "#EBF0F8"
             },
             "line": {
              "color": "white"
             }
            },
            "header": {
             "fill": {
              "color": "#C8D4E3"
             },
             "line": {
              "color": "white"
             }
            },
            "type": "table"
           }
          ]
         },
         "layout": {
          "annotationdefaults": {
           "arrowcolor": "#2a3f5f",
           "arrowhead": 0,
           "arrowwidth": 1
          },
          "autotypenumbers": "strict",
          "coloraxis": {
           "colorbar": {
            "outlinewidth": 0,
            "ticks": ""
           }
          },
          "colorscale": {
           "diverging": [
            [
             0,
             "#8e0152"
            ],
            [
             0.1,
             "#c51b7d"
            ],
            [
             0.2,
             "#de77ae"
            ],
            [
             0.3,
             "#f1b6da"
            ],
            [
             0.4,
             "#fde0ef"
            ],
            [
             0.5,
             "#f7f7f7"
            ],
            [
             0.6,
             "#e6f5d0"
            ],
            [
             0.7,
             "#b8e186"
            ],
            [
             0.8,
             "#7fbc41"
            ],
            [
             0.9,
             "#4d9221"
            ],
            [
             1,
             "#276419"
            ]
           ],
           "sequential": [
            [
             0,
             "#0d0887"
            ],
            [
             0.1111111111111111,
             "#46039f"
            ],
            [
             0.2222222222222222,
             "#7201a8"
            ],
            [
             0.3333333333333333,
             "#9c179e"
            ],
            [
             0.4444444444444444,
             "#bd3786"
            ],
            [
             0.5555555555555556,
             "#d8576b"
            ],
            [
             0.6666666666666666,
             "#ed7953"
            ],
            [
             0.7777777777777778,
             "#fb9f3a"
            ],
            [
             0.8888888888888888,
             "#fdca26"
            ],
            [
             1,
             "#f0f921"
            ]
           ],
           "sequentialminus": [
            [
             0,
             "#0d0887"
            ],
            [
             0.1111111111111111,
             "#46039f"
            ],
            [
             0.2222222222222222,
             "#7201a8"
            ],
            [
             0.3333333333333333,
             "#9c179e"
            ],
            [
             0.4444444444444444,
             "#bd3786"
            ],
            [
             0.5555555555555556,
             "#d8576b"
            ],
            [
             0.6666666666666666,
             "#ed7953"
            ],
            [
             0.7777777777777778,
             "#fb9f3a"
            ],
            [
             0.8888888888888888,
             "#fdca26"
            ],
            [
             1,
             "#f0f921"
            ]
           ]
          },
          "colorway": [
           "#636efa",
           "#EF553B",
           "#00cc96",
           "#ab63fa",
           "#FFA15A",
           "#19d3f3",
           "#FF6692",
           "#B6E880",
           "#FF97FF",
           "#FECB52"
          ],
          "font": {
           "color": "#2a3f5f"
          },
          "geo": {
           "bgcolor": "white",
           "lakecolor": "white",
           "landcolor": "#E5ECF6",
           "showlakes": true,
           "showland": true,
           "subunitcolor": "white"
          },
          "hoverlabel": {
           "align": "left"
          },
          "hovermode": "closest",
          "mapbox": {
           "style": "light"
          },
          "paper_bgcolor": "white",
          "plot_bgcolor": "#E5ECF6",
          "polar": {
           "angularaxis": {
            "gridcolor": "white",
            "linecolor": "white",
            "ticks": ""
           },
           "bgcolor": "#E5ECF6",
           "radialaxis": {
            "gridcolor": "white",
            "linecolor": "white",
            "ticks": ""
           }
          },
          "scene": {
           "xaxis": {
            "backgroundcolor": "#E5ECF6",
            "gridcolor": "white",
            "gridwidth": 2,
            "linecolor": "white",
            "showbackground": true,
            "ticks": "",
            "zerolinecolor": "white"
           },
           "yaxis": {
            "backgroundcolor": "#E5ECF6",
            "gridcolor": "white",
            "gridwidth": 2,
            "linecolor": "white",
            "showbackground": true,
            "ticks": "",
            "zerolinecolor": "white"
           },
           "zaxis": {
            "backgroundcolor": "#E5ECF6",
            "gridcolor": "white",
            "gridwidth": 2,
            "linecolor": "white",
            "showbackground": true,
            "ticks": "",
            "zerolinecolor": "white"
           }
          },
          "shapedefaults": {
           "line": {
            "color": "#2a3f5f"
           }
          },
          "ternary": {
           "aaxis": {
            "gridcolor": "white",
            "linecolor": "white",
            "ticks": ""
           },
           "baxis": {
            "gridcolor": "white",
            "linecolor": "white",
            "ticks": ""
           },
           "bgcolor": "#E5ECF6",
           "caxis": {
            "gridcolor": "white",
            "linecolor": "white",
            "ticks": ""
           }
          },
          "title": {
           "x": 0.05
          },
          "xaxis": {
           "automargin": true,
           "gridcolor": "white",
           "linecolor": "white",
           "ticks": "",
           "title": {
            "standoff": 15
           },
           "zerolinecolor": "white",
           "zerolinewidth": 2
          },
          "yaxis": {
           "automargin": true,
           "gridcolor": "white",
           "linecolor": "white",
           "ticks": "",
           "title": {
            "standoff": 15
           },
           "zerolinecolor": "white",
           "zerolinewidth": 2
          }
         }
        },
        "title": {
         "text": "Penjualan Produk per Kategori"
        },
        "xaxis": {
         "anchor": "y",
         "domain": [
          0,
          1
         ],
         "title": {
          "text": "Kategori Produk"
         }
        },
        "yaxis": {
         "anchor": "x",
         "domain": [
          0,
          1
         ],
         "title": {
          "text": "Jumlah Terjual"
         }
        }
       }
      }
     },
     "metadata": {},
     "output_type": "display_data"
    }
   ],
   "source": [
    "fig = px.bar(produk_terjual_terbanyak, x='Product line', y='Quantity', title='Penjualan Produk per Kategori',\n",
    "             labels={'Product line': 'Kategori Produk', 'Quantity': 'Jumlah Terjual'},\n",
    "             color='Quantity')\n",
    "fig.show()"
   ]
  },
  {
   "cell_type": "code",
   "execution_count": 28,
   "id": "a464a9af",
   "metadata": {},
   "outputs": [
    {
     "data": {
      "text/html": [
       "<div>\n",
       "<style scoped>\n",
       "    .dataframe tbody tr th:only-of-type {\n",
       "        vertical-align: middle;\n",
       "    }\n",
       "\n",
       "    .dataframe tbody tr th {\n",
       "        vertical-align: top;\n",
       "    }\n",
       "\n",
       "    .dataframe thead th {\n",
       "        text-align: right;\n",
       "    }\n",
       "</style>\n",
       "<table border=\"1\" class=\"dataframe\">\n",
       "  <thead>\n",
       "    <tr style=\"text-align: right;\">\n",
       "      <th></th>\n",
       "      <th>Product line</th>\n",
       "      <th>Quantity</th>\n",
       "    </tr>\n",
       "  </thead>\n",
       "  <tbody>\n",
       "    <tr>\n",
       "      <th>0</th>\n",
       "      <td>Electronic accessories</td>\n",
       "      <td>971</td>\n",
       "    </tr>\n",
       "    <tr>\n",
       "      <th>2</th>\n",
       "      <td>Food and beverages</td>\n",
       "      <td>952</td>\n",
       "    </tr>\n",
       "    <tr>\n",
       "      <th>5</th>\n",
       "      <td>Sports and travel</td>\n",
       "      <td>920</td>\n",
       "    </tr>\n",
       "    <tr>\n",
       "      <th>4</th>\n",
       "      <td>Home and lifestyle</td>\n",
       "      <td>911</td>\n",
       "    </tr>\n",
       "    <tr>\n",
       "      <th>1</th>\n",
       "      <td>Fashion accessories</td>\n",
       "      <td>902</td>\n",
       "    </tr>\n",
       "  </tbody>\n",
       "</table>\n",
       "</div>"
      ],
      "text/plain": [
       "             Product line  Quantity\n",
       "0  Electronic accessories       971\n",
       "2      Food and beverages       952\n",
       "5       Sports and travel       920\n",
       "4      Home and lifestyle       911\n",
       "1     Fashion accessories       902"
      ]
     },
     "execution_count": 28,
     "metadata": {},
     "output_type": "execute_result"
    }
   ],
   "source": [
    "produk_terjual_terbanyak = df.groupby('Product line')['Quantity'].sum().reset_index().sort_values('Quantity', ascending=False)\n",
    "produk_terjual_terbanyak.head()"
   ]
  },
  {
   "cell_type": "code",
   "execution_count": 29,
   "id": "9b7fce46",
   "metadata": {},
   "outputs": [
    {
     "data": {
      "text/plain": [
       "[Text(0, 0, '971'),\n",
       " Text(0, 0, '952'),\n",
       " Text(0, 0, '920'),\n",
       " Text(0, 0, '911'),\n",
       " Text(0, 0, '902'),\n",
       " Text(0, 0, '854')]"
      ]
     },
     "execution_count": 29,
     "metadata": {},
     "output_type": "execute_result"
    },
    {
     "data": {
      "image/png": "[encoded data removed]",
      "text/plain": [
       "<Figure size 1300x800 with 1 Axes>"
      ]
     },
     "metadata": {},
     "output_type": "display_data"
    }
   ],
   "source": [
    "fig,ax= plt.subplots(figsize=(13,8))\n",
    "bar_container = ax.bar(produk_terjual_terbanyak['Product line'], produk_terjual_terbanyak['Quantity'])\n",
    "ax.set(ylabel='Quantity', title='Penjualan Produk per Kategori', ylim=(0,1100))\n",
    "ax.bar_label(bar_container)"
   ]
  },
  {
   "cell_type": "markdown",
   "id": "d250f0a4",
   "metadata": {},
   "source": [
    "secara keseluruhan, kategori produk yang paling banyak terjual adalah Electronic accessories sebesar 971 unit. Oleh karena itu, mungkin ktia bisa meningkatkan strategi penjualan pada electronic accessories, karena F & B ada di posisi kedua, kita bisa membuat promosi atau campaign terhadap F&B yang digabungkan dengan Health and Beauty.\n"
   ]
  },
  {
   "cell_type": "markdown",
   "id": "6006888f",
   "metadata": {},
   "source": [
    "4. Kota mana dengan penjualan terbanyak"
   ]
  },
  {
   "cell_type": "code",
   "execution_count": 30,
   "id": "7522e674",
   "metadata": {},
   "outputs": [],
   "source": [
    "# grup berdasarkan kota\n",
    "kota_penjualan_terbanyak = round(df.groupby('City')['new_Total'].sum().reset_index().sort_values(by='new_Total',ascending=False))"
   ]
  },
  {
   "cell_type": "code",
   "execution_count": 31,
   "id": "6b5f7ba9",
   "metadata": {},
   "outputs": [
    {
     "data": {
      "application/vnd.plotly.v1+json": {
       "config": {
        "plotlyServerURL": "https://plot.ly"
       },
       "data": [
        {
         "alignmentgroup": "True",
         "hovertemplate": "Kota=%{x}<br>Total Penjualan=%{marker.color}<extra></extra>",
         "legendgroup": "",
         "marker": {
          "color": [
           110569,
           106200,
           106198
          ],
          "coloraxis": "coloraxis",
          "pattern": {
           "shape": ""
          }
         },
         "name": "",
         "offsetgroup": "",
         "orientation": "v",
         "showlegend": false,
         "textposition": "auto",
         "type": "bar",
         "x": [
          "Naypyitaw",
          "Yangon",
          "Mandalay"
         ],
         "xaxis": "x",
         "y": [
          110569,
          106200,
          106198
         ],
         "yaxis": "y"
        }
       ],
       "layout": {
        "barmode": "relative",
        "coloraxis": {
         "colorbar": {
          "title": {
           "text": "Total Penjualan"
          }
         },
         "colorscale": [
          [
           0,
           "#0d0887"
          ],
          [
           0.1111111111111111,
           "#46039f"
          ],
          [
           0.2222222222222222,
           "#7201a8"
          ],
          [
           0.3333333333333333,
           "#9c179e"
          ],
          [
           0.4444444444444444,
           "#bd3786"
          ],
          [
           0.5555555555555556,
           "#d8576b"
          ],
          [
           0.6666666666666666,
           "#ed7953"
          ],
          [
           0.7777777777777778,
           "#fb9f3a"
          ],
          [
           0.8888888888888888,
           "#fdca26"
          ],
          [
           1,
           "#f0f921"
          ]
         ]
        },
        "legend": {
         "tracegroupgap": 0
        },
        "template": {
         "data": {
          "bar": [
           {
            "error_x": {
             "color": "#2a3f5f"
            },
            "error_y": {
             "color": "#2a3f5f"
            },
            "marker": {
             "line": {
              "color": "#E5ECF6",
              "width": 0.5
             },
             "pattern": {
              "fillmode": "overlay",
              "size": 10,
              "solidity": 0.2
             }
            },
            "type": "bar"
           }
          ],
          "barpolar": [
           {
            "marker": {
             "line": {
              "color": "#E5ECF6",
              "width": 0.5
             },
             "pattern": {
              "fillmode": "overlay",
              "size": 10,
              "solidity": 0.2
             }
            },
            "type": "barpolar"
           }
          ],
          "carpet": [
           {
            "aaxis": {
             "endlinecolor": "#2a3f5f",
             "gridcolor": "white",
             "linecolor": "white",
             "minorgridcolor": "white",
             "startlinecolor": "#2a3f5f"
            },
            "baxis": {
             "endlinecolor": "#2a3f5f",
             "gridcolor": "white",
             "linecolor": "white",
             "minorgridcolor": "white",
             "startlinecolor": "#2a3f5f"
            },
            "type": "carpet"
           }
          ],
          "choropleth": [
           {
            "colorbar": {
             "outlinewidth": 0,
             "ticks": ""
            },
            "type": "choropleth"
           }
          ],
          "contour": [
           {
            "colorbar": {
             "outlinewidth": 0,
             "ticks": ""
            },
            "colorscale": [
             [
              0,
              "#0d0887"
             ],
             [
              0.1111111111111111,
              "#46039f"
             ],
             [
              0.2222222222222222,
              "#7201a8"
             ],
             [
              0.3333333333333333,
              "#9c179e"
             ],
             [
              0.4444444444444444,
              "#bd3786"
             ],
             [
              0.5555555555555556,
              "#d8576b"
             ],
             [
              0.6666666666666666,
              "#ed7953"
             ],
             [
              0.7777777777777778,
              "#fb9f3a"
             ],
             [
              0.8888888888888888,
              "#fdca26"
             ],
             [
              1,
              "#f0f921"
             ]
            ],
            "type": "contour"
           }
          ],
          "contourcarpet": [
           {
            "colorbar": {
             "outlinewidth": 0,
             "ticks": ""
            },
            "type": "contourcarpet"
           }
          ],
          "heatmap": [
           {
            "colorbar": {
             "outlinewidth": 0,
             "ticks": ""
            },
            "colorscale": [
             [
              0,
              "#0d0887"
             ],
             [
              0.1111111111111111,
              "#46039f"
             ],
             [
              0.2222222222222222,
              "#7201a8"
             ],
             [
              0.3333333333333333,
              "#9c179e"
             ],
             [
              0.4444444444444444,
              "#bd3786"
             ],
             [
              0.5555555555555556,
              "#d8576b"
             ],
             [
              0.6666666666666666,
              "#ed7953"
             ],
             [
              0.7777777777777778,
              "#fb9f3a"
             ],
             [
              0.8888888888888888,
              "#fdca26"
             ],
             [
              1,
              "#f0f921"
             ]
            ],
            "type": "heatmap"
           }
          ],
          "heatmapgl": [
           {
            "colorbar": {
             "outlinewidth": 0,
             "ticks": ""
            },
            "colorscale": [
             [
              0,
              "#0d0887"
             ],
             [
              0.1111111111111111,
              "#46039f"
             ],
             [
              0.2222222222222222,
              "#7201a8"
             ],
             [
              0.3333333333333333,
              "#9c179e"
             ],
             [
              0.4444444444444444,
              "#bd3786"
             ],
             [
              0.5555555555555556,
              "#d8576b"
             ],
             [
              0.6666666666666666,
              "#ed7953"
             ],
             [
              0.7777777777777778,
              "#fb9f3a"
             ],
             [
              0.8888888888888888,
              "#fdca26"
             ],
             [
              1,
              "#f0f921"
             ]
            ],
            "type": "heatmapgl"
           }
          ],
          "histogram": [
           {
            "marker": {
             "pattern": {
              "fillmode": "overlay",
              "size": 10,
              "solidity": 0.2
             }
            },
            "type": "histogram"
           }
          ],
          "histogram2d": [
           {
            "colorbar": {
             "outlinewidth": 0,
             "ticks": ""
            },
            "colorscale": [
             [
              0,
              "#0d0887"
             ],
             [
              0.1111111111111111,
              "#46039f"
             ],
             [
              0.2222222222222222,
              "#7201a8"
             ],
             [
              0.3333333333333333,
              "#9c179e"
             ],
             [
              0.4444444444444444,
              "#bd3786"
             ],
             [
              0.5555555555555556,
              "#d8576b"
             ],
             [
              0.6666666666666666,
              "#ed7953"
             ],
             [
              0.7777777777777778,
              "#fb9f3a"
             ],
             [
              0.8888888888888888,
              "#fdca26"
             ],
             [
              1,
              "#f0f921"
             ]
            ],
            "type": "histogram2d"
           }
          ],
          "histogram2dcontour": [
           {
            "colorbar": {
             "outlinewidth": 0,
             "ticks": ""
            },
            "colorscale": [
             [
              0,
              "#0d0887"
             ],
             [
              0.1111111111111111,
              "#46039f"
             ],
             [
              0.2222222222222222,
              "#7201a8"
             ],
             [
              0.3333333333333333,
              "#9c179e"
             ],
             [
              0.4444444444444444,
              "#bd3786"
             ],
             [
              0.5555555555555556,
              "#d8576b"
             ],
             [
              0.6666666666666666,
              "#ed7953"
             ],
             [
              0.7777777777777778,
              "#fb9f3a"
             ],
             [
              0.8888888888888888,
              "#fdca26"
             ],
             [
              1,
              "#f0f921"
             ]
            ],
            "type": "histogram2dcontour"
           }
          ],
          "mesh3d": [
           {
            "colorbar": {
             "outlinewidth": 0,
             "ticks": ""
            },
            "type": "mesh3d"
           }
          ],
          "parcoords": [
           {
            "line": {
             "colorbar": {
              "outlinewidth": 0,
              "ticks": ""
             }
            },
            "type": "parcoords"
           }
          ],
          "pie": [
           {
            "automargin": true,
            "type": "pie"
           }
          ],
          "scatter": [
           {
            "fillpattern": {
             "fillmode": "overlay",
             "size": 10,
             "solidity": 0.2
            },
            "type": "scatter"
           }
          ],
          "scatter3d": [
           {
            "line": {
             "colorbar": {
              "outlinewidth": 0,
              "ticks": ""
             }
            },
            "marker": {
             "colorbar": {
              "outlinewidth": 0,
              "ticks": ""
             }
            },
            "type": "scatter3d"
           }
          ],
          "scattercarpet": [
           {
            "marker": {
             "colorbar": {
              "outlinewidth": 0,
              "ticks": ""
             }
            },
            "type": "scattercarpet"
           }
          ],
          "scattergeo": [
           {
            "marker": {
             "colorbar": {
              "outlinewidth": 0,
              "ticks": ""
             }
            },
            "type": "scattergeo"
           }
          ],
          "scattergl": [
           {
            "marker": {
             "colorbar": {
              "outlinewidth": 0,
              "ticks": ""
             }
            },
            "type": "scattergl"
           }
          ],
          "scattermapbox": [
           {
            "marker": {
             "colorbar": {
              "outlinewidth": 0,
              "ticks": ""
             }
            },
            "type": "scattermapbox"
           }
          ],
          "scatterpolar": [
           {
            "marker": {
             "colorbar": {
              "outlinewidth": 0,
              "ticks": ""
             }
            },
            "type": "scatterpolar"
           }
          ],
          "scatterpolargl": [
           {
            "marker": {
             "colorbar": {
              "outlinewidth": 0,
              "ticks": ""
             }
            },
            "type": "scatterpolargl"
           }
          ],
          "scatterternary": [
           {
            "marker": {
             "colorbar": {
              "outlinewidth": 0,
              "ticks": ""
             }
            },
            "type": "scatterternary"
           }
          ],
          "surface": [
           {
            "colorbar": {
             "outlinewidth": 0,
             "ticks": ""
            },
            "colorscale": [
             [
              0,
              "#0d0887"
             ],
             [
              0.1111111111111111,
              "#46039f"
             ],
             [
              0.2222222222222222,
              "#7201a8"
             ],
             [
              0.3333333333333333,
              "#9c179e"
             ],
             [
              0.4444444444444444,
              "#bd3786"
             ],
             [
              0.5555555555555556,
              "#d8576b"
             ],
             [
              0.6666666666666666,
              "#ed7953"
             ],
             [
              0.7777777777777778,
              "#fb9f3a"
             ],
             [
              0.8888888888888888,
              "#fdca26"
             ],
             [
              1,
              "#f0f921"
             ]
            ],
            "type": "surface"
           }
          ],
          "table": [
           {
            "cells": {
             "fill": {
              "color": "#EBF0F8"
             },
             "line": {
              "color": "white"
             }
            },
            "header": {
             "fill": {
              "color": "#C8D4E3"
             },
             "line": {
              "color": "white"
             }
            },
            "type": "table"
           }
          ]
         },
         "layout": {
          "annotationdefaults": {
           "arrowcolor": "#2a3f5f",
           "arrowhead": 0,
           "arrowwidth": 1
          },
          "autotypenumbers": "strict",
          "coloraxis": {
           "colorbar": {
            "outlinewidth": 0,
            "ticks": ""
           }
          },
          "colorscale": {
           "diverging": [
            [
             0,
             "#8e0152"
            ],
            [
             0.1,
             "#c51b7d"
            ],
            [
             0.2,
             "#de77ae"
            ],
            [
             0.3,
             "#f1b6da"
            ],
            [
             0.4,
             "#fde0ef"
            ],
            [
             0.5,
             "#f7f7f7"
            ],
            [
             0.6,
             "#e6f5d0"
            ],
            [
             0.7,
             "#b8e186"
            ],
            [
             0.8,
             "#7fbc41"
            ],
            [
             0.9,
             "#4d9221"
            ],
            [
             1,
             "#276419"
            ]
           ],
           "sequential": [
            [
             0,
             "#0d0887"
            ],
            [
             0.1111111111111111,
             "#46039f"
            ],
            [
             0.2222222222222222,
             "#7201a8"
            ],
            [
             0.3333333333333333,
             "#9c179e"
            ],
            [
             0.4444444444444444,
             "#bd3786"
            ],
            [
             0.5555555555555556,
             "#d8576b"
            ],
            [
             0.6666666666666666,
             "#ed7953"
            ],
            [
             0.7777777777777778,
             "#fb9f3a"
            ],
            [
             0.8888888888888888,
             "#fdca26"
            ],
            [
             1,
             "#f0f921"
            ]
           ],
           "sequentialminus": [
            [
             0,
             "#0d0887"
            ],
            [
             0.1111111111111111,
             "#46039f"
            ],
            [
             0.2222222222222222,
             "#7201a8"
            ],
            [
             0.3333333333333333,
             "#9c179e"
            ],
            [
             0.4444444444444444,
             "#bd3786"
            ],
            [
             0.5555555555555556,
             "#d8576b"
            ],
            [
             0.6666666666666666,
             "#ed7953"
            ],
            [
             0.7777777777777778,
             "#fb9f3a"
            ],
            [
             0.8888888888888888,
             "#fdca26"
            ],
            [
             1,
             "#f0f921"
            ]
           ]
          },
          "colorway": [
           "#636efa",
           "#EF553B",
           "#00cc96",
           "#ab63fa",
           "#FFA15A",
           "#19d3f3",
           "#FF6692",
           "#B6E880",
           "#FF97FF",
           "#FECB52"
          ],
          "font": {
           "color": "#2a3f5f"
          },
          "geo": {
           "bgcolor": "white",
           "lakecolor": "white",
           "landcolor": "#E5ECF6",
           "showlakes": true,
           "showland": true,
           "subunitcolor": "white"
          },
          "hoverlabel": {
           "align": "left"
          },
          "hovermode": "closest",
          "mapbox": {
           "style": "light"
          },
          "paper_bgcolor": "white",
          "plot_bgcolor": "#E5ECF6",
          "polar": {
           "angularaxis": {
            "gridcolor": "white",
            "linecolor": "white",
            "ticks": ""
           },
           "bgcolor": "#E5ECF6",
           "radialaxis": {
            "gridcolor": "white",
            "linecolor": "white",
            "ticks": ""
           }
          },
          "scene": {
           "xaxis": {
            "backgroundcolor": "#E5ECF6",
            "gridcolor": "white",
            "gridwidth": 2,
            "linecolor": "white",
            "showbackground": true,
            "ticks": "",
            "zerolinecolor": "white"
           },
           "yaxis": {
            "backgroundcolor": "#E5ECF6",
            "gridcolor": "white",
            "gridwidth": 2,
            "linecolor": "white",
            "showbackground": true,
            "ticks": "",
            "zerolinecolor": "white"
           },
           "zaxis": {
            "backgroundcolor": "#E5ECF6",
            "gridcolor": "white",
            "gridwidth": 2,
            "linecolor": "white",
            "showbackground": true,
            "ticks": "",
            "zerolinecolor": "white"
           }
          },
          "shapedefaults": {
           "line": {
            "color": "#2a3f5f"
           }
          },
          "ternary": {
           "aaxis": {
            "gridcolor": "white",
            "linecolor": "white",
            "ticks": ""
           },
           "baxis": {
            "gridcolor": "white",
            "linecolor": "white",
            "ticks": ""
           },
           "bgcolor": "#E5ECF6",
           "caxis": {
            "gridcolor": "white",
            "linecolor": "white",
            "ticks": ""
           }
          },
          "title": {
           "x": 0.05
          },
          "xaxis": {
           "automargin": true,
           "gridcolor": "white",
           "linecolor": "white",
           "ticks": "",
           "title": {
            "standoff": 15
           },
           "zerolinecolor": "white",
           "zerolinewidth": 2
          },
          "yaxis": {
           "automargin": true,
           "gridcolor": "white",
           "linecolor": "white",
           "ticks": "",
           "title": {
            "standoff": 15
           },
           "zerolinecolor": "white",
           "zerolinewidth": 2
          }
         }
        },
        "title": {
         "text": "Total Penjualan per Kota"
        },
        "xaxis": {
         "anchor": "y",
         "domain": [
          0,
          1
         ],
         "title": {
          "text": "Kota"
         }
        },
        "yaxis": {
         "anchor": "x",
         "domain": [
          0,
          1
         ],
         "title": {
          "text": "Total Penjualan"
         }
        }
       }
      }
     },
     "metadata": {},
     "output_type": "display_data"
    }
   ],
   "source": [
    "# visualisasi bar chart\n",
    "fig = px.bar(kota_penjualan_terbanyak, x='City', y='new_Total', title='Total Penjualan per Kota',\n",
    "             labels={'City': 'Kota', 'new_Total': 'Total Penjualan'}, color='new_Total')\n",
    "fig.show()"
   ]
  },
  {
   "cell_type": "code",
   "execution_count": 32,
   "id": "d26062b3",
   "metadata": {},
   "outputs": [
    {
     "data": {
      "text/html": [
       "<div>\n",
       "<style scoped>\n",
       "    .dataframe tbody tr th:only-of-type {\n",
       "        vertical-align: middle;\n",
       "    }\n",
       "\n",
       "    .dataframe tbody tr th {\n",
       "        vertical-align: top;\n",
       "    }\n",
       "\n",
       "    .dataframe thead th {\n",
       "        text-align: right;\n",
       "    }\n",
       "</style>\n",
       "<table border=\"1\" class=\"dataframe\">\n",
       "  <thead>\n",
       "    <tr style=\"text-align: right;\">\n",
       "      <th></th>\n",
       "      <th>City</th>\n",
       "      <th>new_Total</th>\n",
       "    </tr>\n",
       "  </thead>\n",
       "  <tbody>\n",
       "    <tr>\n",
       "      <th>1</th>\n",
       "      <td>Naypyitaw</td>\n",
       "      <td>110569.0</td>\n",
       "    </tr>\n",
       "    <tr>\n",
       "      <th>2</th>\n",
       "      <td>Yangon</td>\n",
       "      <td>106200.0</td>\n",
       "    </tr>\n",
       "    <tr>\n",
       "      <th>0</th>\n",
       "      <td>Mandalay</td>\n",
       "      <td>106198.0</td>\n",
       "    </tr>\n",
       "  </tbody>\n",
       "</table>\n",
       "</div>"
      ],
      "text/plain": [
       "        City  new_Total\n",
       "1  Naypyitaw   110569.0\n",
       "2     Yangon   106200.0\n",
       "0   Mandalay   106198.0"
      ]
     },
     "execution_count": 32,
     "metadata": {},
     "output_type": "execute_result"
    }
   ],
   "source": [
    "# grup berdasarkan kota\n",
    "kota_penjualan_terbanyak = round(df.groupby('City')['new_Total'].sum().reset_index().sort_values(by='new_Total',ascending=False))\n",
    "kota_penjualan_terbanyak.head()"
   ]
  },
  {
   "cell_type": "code",
   "execution_count": 33,
   "id": "ff406990",
   "metadata": {},
   "outputs": [
    {
     "data": {
      "text/plain": [
       "[Text(0, 0, '110,569'), Text(0, 0, '106,200'), Text(0, 0, '106,198')]"
      ]
     },
     "execution_count": 33,
     "metadata": {},
     "output_type": "execute_result"
    },
    {
     "data": {
      "image/png": "[encoded data removed]",
      "text/plain": [
       "<Figure size 640x480 with 1 Axes>"
      ]
     },
     "metadata": {},
     "output_type": "display_data"
    }
   ],
   "source": [
    "fig,ax = plt.subplots()\n",
    "bar_container =ax.bar(kota_penjualan_terbanyak['City'], kota_penjualan_terbanyak['new_Total'])\n",
    "ax.set(ylabel='Total Penjualan', title='Total Penjualan per Kota', ylim=(0,120000))\n",
    "ax.bar_label(bar_container, fmt='{:,.0f}')"
   ]
  },
  {
   "cell_type": "markdown",
   "id": "387fe160",
   "metadata": {},
   "source": [
    "Berdasarkan hasil data ini, dapat dilihat bahwa Naypyitaw merupakan kota dengan penjualan terbanyak, yakni 110.569. Oleh karena itu, kita bisa melihat kota mana yang memberikan kontribusi terbesar terhadap total penjualan. Jika ada kota dengan penjualan rendah, kita dapat mmelihat dan mempelajari lebih lanjut apakah ada masalah dalam distribusi atau strategi pemasaran yang diterapkan di kota tersebut."
   ]
  },
  {
   "cell_type": "markdown",
   "id": "20b4c48a",
   "metadata": {},
   "source": [
    "# 2. Statistik Deskriptif"
   ]
  },
  {
   "cell_type": "markdown",
   "id": "c53ba85f",
   "metadata": {},
   "source": [
    "Cabang mana yang penjualannya paling rendah?"
   ]
  },
  {
   "cell_type": "markdown",
   "id": "1720db73",
   "metadata": {},
   "source": [
    "Cabang A"
   ]
  },
  {
   "cell_type": "code",
   "execution_count": 34,
   "id": "418f397d",
   "metadata": {},
   "outputs": [],
   "source": [
    "# Filter berdasarkan cabang\n",
    "df_cabang_A = df[df['Branch'] == 'A']\n",
    "df_cabang_B = df[df['Branch'] == 'B']\n",
    "df_cabang_C = df[df['Branch'] == 'C']"
   ]
  },
  {
   "cell_type": "code",
   "execution_count": 35,
   "id": "526bb9fd",
   "metadata": {},
   "outputs": [
    {
     "name": "stdout",
     "output_type": "stream",
     "text": [
      "============================== Total Terjual ==============================\n",
      "\n",
      "Mean A: 312.35\n",
      "Mean B: 319.87\n",
      "Mean C: 337.10\n",
      "\n",
      "median A: 240.83\n",
      "median B: 252.88\n",
      "median C: 271.42\n",
      "\n",
      "sum A: 106,200.33\n",
      "sum B: 106,197.82\n",
      "sum C: 110,568.68\n",
      "\n",
      "min A: 12.69\n",
      "min B: 18.64\n",
      "min C: 10.68\n",
      "\n",
      "max A: 1,039.29\n",
      "max B: 1,022.49\n",
      "max C: 1,042.65\n"
     ]
    }
   ],
   "source": [
    "print(\"=\"*30, 'Total Terjual', \"=\"*30)\n",
    "mean_A = df_cabang_A['new_Total'].mean()\n",
    "mean_B = df_cabang_B['new_Total'].mean()\n",
    "mean_C = df_cabang_C['new_Total'].mean()\n",
    "\n",
    "median_A = df_cabang_A['new_Total'].median()\n",
    "median_B = df_cabang_B['new_Total'].median()\n",
    "median_C = df_cabang_C['new_Total'].median()\n",
    "\n",
    "sum_A = df_cabang_A['new_Total'].sum()\n",
    "sum_B = df_cabang_B['new_Total'].sum()\n",
    "sum_C = df_cabang_C['new_Total'].sum()\n",
    "\n",
    "min_A = df_cabang_A['new_Total'].min()\n",
    "min_B = df_cabang_B['new_Total'].min()\n",
    "min_C = df_cabang_C['new_Total'].min()\n",
    "\n",
    "max_A = df_cabang_A['new_Total'].max()\n",
    "max_B = df_cabang_B['new_Total'].max()\n",
    "max_C = df_cabang_C['new_Total'].max()\n",
    "\n",
    "print()\n",
    "print(f'Mean A: {mean_A:,.2f}')\n",
    "print(f'Mean B: {mean_B:,.2f}')\n",
    "print(f'Mean C: {mean_C:,.2f}')\n",
    "\n",
    "print()\n",
    "print(f'median A: {median_A:,.2f}')\n",
    "print(f'median B: {median_B:,.2f}')\n",
    "print(f'median C: {median_C:,.2f}')\n",
    "\n",
    "print()\n",
    "print(f'sum A: {sum_A:,.2f}')\n",
    "print(f'sum B: {sum_B:,.2f}')\n",
    "print(f'sum C: {sum_C:,.2f}')\n",
    "\n",
    "print()\n",
    "print(f'min A: {min_A:,.2f}')\n",
    "print(f'min B: {min_B:,.2f}')\n",
    "print(f'min C: {min_C:,.2f}')\n",
    "\n",
    "print()\n",
    "print(f'max A: {max_A:,.2f}')\n",
    "print(f'max B: {max_B:,.2f}')\n",
    "print(f'max C: {max_C:,.2f}')\n",
    "\n"
   ]
  },
  {
   "cell_type": "code",
   "execution_count": 36,
   "id": "1dd07c64",
   "metadata": {},
   "outputs": [
    {
     "name": "stdout",
     "output_type": "stream",
     "text": [
      "============================== Total Quantitas ==============================\n",
      "\n",
      "Mean A: 5.47\n",
      "Mean B: 5.48\n",
      "Mean C: 5.58\n",
      "\n",
      "median A: 5.00\n",
      "median B: 5.00\n",
      "median C: 6.00\n",
      "\n",
      "sum A: 1,859.00\n",
      "sum B: 1,820.00\n",
      "sum C: 1,831.00\n",
      "\n",
      "min A: 1.00\n",
      "min B: 1.00\n",
      "min C: 1.00\n",
      "\n",
      "max A: 10.00\n",
      "max B: 10.00\n",
      "max C: 10.00\n"
     ]
    }
   ],
   "source": [
    "print(\"=\"*30, 'Total Quantitas', \"=\"*30)\n",
    "mean_A = df_cabang_A['Quantity'].mean()\n",
    "mean_B = df_cabang_B['Quantity'].mean()\n",
    "mean_C = df_cabang_C['Quantity'].mean()\n",
    "\n",
    "median_A = df_cabang_A['Quantity'].median()\n",
    "median_B = df_cabang_B['Quantity'].median()\n",
    "median_C = df_cabang_C['Quantity'].median()\n",
    "\n",
    "sum_A = df_cabang_A['Quantity'].sum()\n",
    "sum_B = df_cabang_B['Quantity'].sum()\n",
    "sum_C = df_cabang_C['Quantity'].sum()\n",
    "\n",
    "min_A = df_cabang_A['Quantity'].min()\n",
    "min_B = df_cabang_B['Quantity'].min()\n",
    "min_C = df_cabang_C['Quantity'].min()\n",
    "\n",
    "max_A = df_cabang_A['Quantity'].max()\n",
    "max_B = df_cabang_B['Quantity'].max()\n",
    "max_C = df_cabang_C['Quantity'].max()\n",
    "\n",
    "print()\n",
    "print(f'Mean A: {mean_A:,.2f}')\n",
    "print(f'Mean B: {mean_B:,.2f}')\n",
    "print(f'Mean C: {mean_C:,.2f}')\n",
    "\n",
    "print()\n",
    "print(f'median A: {median_A:,.2f}')\n",
    "print(f'median B: {median_B:,.2f}')\n",
    "print(f'median C: {median_C:,.2f}')\n",
    "\n",
    "print()\n",
    "print(f'sum A: {sum_A:,.2f}')\n",
    "print(f'sum B: {sum_B:,.2f}')\n",
    "print(f'sum C: {sum_C:,.2f}')\n",
    "\n",
    "print()\n",
    "print(f'min A: {min_A:,.2f}')\n",
    "print(f'min B: {min_B:,.2f}')\n",
    "print(f'min C: {min_C:,.2f}')\n",
    "\n",
    "print()\n",
    "print(f'max A: {max_A:,.2f}')\n",
    "print(f'max B: {max_B:,.2f}')\n",
    "print(f'max C: {max_C:,.2f}')"
   ]
  },
  {
   "cell_type": "markdown",
   "id": "256fe085",
   "metadata": {},
   "source": [
    "Berdasarkan data di atas dapat diketahui bahwa:\n",
    "\n",
    "- Rata-rata penjualan terendah terdapat pada cabang A.\n",
    "- Jumlah penjualan terbesar adalah cabang C (hampir semua bidang). Namun, cabang A dan B berbeda sedikit, akan tetapi masih lebih besar Cabang A.\n",
    "- Nilai minimum dan maksimum antar cabang juga sama, ini berarti transaksinya relatif mirip.\n",
    "- Dari segi kuantitas penjualan terdapat perbandingan dengan penjualan yang dimana ditemukan bahwa jumlah penjualan bedasarkan \n",
    "    kuantitas paling besar berasal dari cabang A, sedangkan jumlah total penjualan paling besar adalah cabang C.\n",
    "\n"
   ]
  },
  {
   "cell_type": "markdown",
   "id": "d6292581",
   "metadata": {},
   "source": [
    "# 3. Statistik Inferensial"
   ]
  },
  {
   "cell_type": "markdown",
   "id": "1268598e",
   "metadata": {},
   "source": [
    "## Uji hipotesis pengaruh gender terhadap penjualan"
   ]
  },
  {
   "cell_type": "code",
   "execution_count": 37,
   "id": "57b3e769",
   "metadata": {},
   "outputs": [
    {
     "name": "stdout",
     "output_type": "stream",
     "text": [
      "Mean\n",
      "Rata-rata new_Total adalah: 322.97\n",
      "==================================================\n",
      "Median\n",
      " Median new_Total: 253.85\n",
      "==================================================\n",
      "Standar Deviasi\n",
      "Standar Deviasi new_Total adalah: 245.89\n",
      "Skew\n",
      "skewness new_Total adalah: 0.89\n",
      "==================================================\n",
      "Kurtosis\n",
      "Kurtosis new_Total adalah: -0.08\n"
     ]
    }
   ],
   "source": [
    "# menghitung central tendency, sebaran data, dan bentuk distribusi data\n",
    "\n",
    "# Hitung Rata-rata\n",
    "print(\"Mean\")\n",
    "mean_newTotal = df['new_Total'].mean()\n",
    "print(f'Rata-rata new_Total adalah: {mean_newTotal:.2f}')\n",
    "\n",
    "print(\"=\"*50)\n",
    "\n",
    "# Hitung Median\n",
    "print(\"Median\")\n",
    "median_new_Total = df['new_Total'].median()\n",
    "print(f' Median new_Total: {median_new_Total:.2f}')\n",
    "\n",
    "print(\"=\"*50)\n",
    "\n",
    "# Standar Deviasi\n",
    "print(\"Standar Deviasi\")\n",
    "std_new_Total = df['new_Total'].std()\n",
    "print(f'Standar Deviasi new_Total adalah: {std_new_Total:.2f}')\n",
    "\n",
    "# menghitung kurtosis\n",
    "# skewness\n",
    "print(\"Skew\")\n",
    "skew_new_Total = df['new_Total'].skew()\n",
    "print(f'skewness new_Total adalah: {skew_new_Total:.2f}')\n",
    "\n",
    "print(\"=\"*50)\n",
    "\n",
    "# Kurtosis\n",
    "print(\"Kurtosis\")\n",
    "kurtosis_new_Total = df['new_Total'].kurtosis()\n",
    "print(f'Kurtosis new_Total adalah: {kurtosis_new_Total:.2f}')"
   ]
  },
  {
   "cell_type": "markdown",
   "id": "05139086",
   "metadata": {},
   "source": [
    "Berdasarkan data dari central tendency dan sebaran data, dapat dilihat bahwa data penjualan (new_total) memiliki distribusi bersifat skew positif yang dimana memiliki arti mayoritas transaksi mempunyai nilai yang lebih kecil daripada meannya. Namun terdapat transaksi besar yang mendorong meannya ke atas. Oleh karena itu, karena data tidak berdistribusi normal, kita melakukan uji hipotesis menggunakan Mann-Whitney U Test untuk mengetahui apakah terdapat perbedaan tingkat pembelian berdasarkan gender."
   ]
  },
  {
   "cell_type": "markdown",
   "id": "0db009b8",
   "metadata": {},
   "source": [
    "H0 = Tidak terdapat perbedaan tingkat pembelian berdasarkan gender\n",
    "\n",
    "H1 =  Terdapat perbedaan tingkat pembelian berdasarkan gender"
   ]
  },
  {
   "cell_type": "code",
   "execution_count": 38,
   "id": "fe572d9d",
   "metadata": {},
   "outputs": [
    {
     "name": "stdout",
     "output_type": "stream",
     "text": [
      "Statistik U: 0.000\n",
      "P-value: 0.0000\n"
     ]
    }
   ],
   "source": [
    "# melakukan uji hipotesis dengan Mann-Whitney U\n",
    "stat_mannwhitneyu, p_value_mannwhitneyu = mannwhitneyu(df['Gender_code'], df['new_Total'])\n",
    "\n",
    "print(f\"Statistik U: {stat_mannwhitneyu:.3f}\")\n",
    "print(f\"P-value: {p_value_mannwhitneyu:.4f}\")"
   ]
  },
  {
   "cell_type": "markdown",
   "id": "b19bd489",
   "metadata": {},
   "source": [
    "Berdasarkan hasil analisis deskriptif, data penjualan (new_Total) menunjukkan distribusi yang skew positif dengan mean lebih tinggi dari median, yang mengindikasikan adanya outlier atau transaksi bernilai besar yang menarik nilai rata-rata ke atas.\n",
    "\n",
    "Karena distribusi tidak normal, maka dilakukan uji hipotesis non-parametrik Mann-Whitney U untuk menguji apakah terdapat perbedaan tingkat pembelian berdasarkan gender.\n",
    "\n",
    "Hipotesis yang diuji:\n",
    "\n",
    "H0: Tidak terdapat perbedaan tingkat pembelian berdasarkan gender\n",
    "\n",
    "H1: Terdapat perbedaan tingkat pembelian berdasarkan gender\n",
    "\n",
    "Hasil pengujian menunjukkan:\n",
    "\n",
    "Statistik U: 0.000\n",
    "\n",
    "P-value: 0.0000\n",
    "\n",
    "Karena nilai P < 0.05, maka H0 ditolak. Artinya, terdapat perbedaan yang signifikan dalam tingkat pembelian antara kelompok gender. Dengan kata lain, gender berpengaruh terhadap tingkat pembelian customer dalam data ini."
   ]
  },
  {
   "cell_type": "markdown",
   "id": "11592341",
   "metadata": {},
   "source": [
    "# Kesimpulan\n",
    "\n",
    "Berdasarkan analisis yang sudah dilakukan, kita dapat mengambil titik besarnya yaitu:\n",
    "\n",
    "- Penjualan tertinggi terjadi pada tanggal 09 maret 2019 sebesar $7,474.04, sedangkan penjualan terendah ada pada tanggal 13 Februari 2019 sebesar $934.25. \n",
    "\n",
    "- Customer yang sudah menjadi member lebih banyak perempuan(52.1%) dibandingkan dengan laki(47.9%).\n",
    "\n",
    "- secara keseluruhan, kategori produk yang paling banyak terjual adalah Electronic accessories sebesar 971 unit, \n",
    "\n",
    "- Berdasarkan hasil data ini, dapat dilihat bahwa Naypyitaw merupakan kota dengan penjualan terbanyak, yakni 110.569.\n",
    "\n",
    "- Hasil analisis deskriptif menunjukkan bahwa Cabang A memiliki rata-rata penjualan terendah, sedangkan Cabang C unggul di hampir semua metrik, termasuk total dan rata-rata penjualan. Cabang A dan B memiliki total penjualan yang mirip, namun Cabang A sedikit lebih tinggi. Meskipun Cabang A mencatat kuantitas penjualan terbanyak, Cabang C tetap menghasilkan nilai penjualan tertinggi, kemungkinan karena produk dengan harga lebih tinggi.\n",
    "\n",
    "- Berdasarkan hasil uji hipotesis menggunakan Mann-Whitney U Test, diperoleh P-value = 0.0000 yang menunjukkan bahwa terdapat perbedaan tingkat pembelian antara gender secara signifikan. Oleh karena itu, dapat disimpulkan bahwa gender merupakan salah satu faktor yang berpengaruh terhadap tingkat pembelian customer."
   ]
  },
  {
   "cell_type": "markdown",
   "id": "f523f9d2",
   "metadata": {},
   "source": [
    "# Rekomendasi\n",
    "\n",
    "Berdasarkan kesimpulan yang telah didapatkan, kita bisa meningkatkan promosi pada tanggal atau waktu tertentu, misalnya dengan membuat promo musiman atau event khusus. Kita juga bisa memperkuat penjualan pada sektor Electronic accessories dengan menempatkan produk tersebut di lokasi strategis dalam toko.\n",
    "\n",
    "Karena Naypyitaw merupakan kota dengan total penjualan tertinggi, maka performa penjualan di kota tersebut dapat terus ditingkatkan dengan menambah stok, layanan, hingga ekspansi cabang di sekitar daerah tersebut.\n",
    "\n",
    "Terkait performa antar cabang yang sudah ada, Cabang A dan B perlu dievaluasi secara menyeluruh karena penjualannya tidak sebaik dan tidak se konsisten Cabang C, yang unggul di hampir semua metrik. Strategi penjualan Cabang C bisa dijadikan acuan dalam menyusun ulang strategi bisnis untuk Cabang A dan B.\n",
    "\n",
    "Selain itu, berdasarkan hasil uji hipotesis Mann-Whitney U, ditemukan bahwa gender memiliki pengaruh signifikan terhadap tingkat pembelian. Oleh karena itu, strategi marketing ke depan dapat mempertimbangkan perbedaan perilaku pembelian antara konsumen laki-laki dan perempuan, misalnya melalui segmentasi promosi, produk, atau loyalty program.\n",
    "\n",
    "Namun demikian, strategi tidak hanya perlu berfokus pada gender, tetapi juga harus mempertimbangkan faktor lain seperti kategori produk, waktu pembelian, loyalitas pelanggan, dan efektivitas promosi untuk mendorong peningkatan penjualan secara menyeluruh."
   ]
  }
 ],
 "metadata": {
  "kernelspec": {
   "display_name": "Python 3",
   "language": "python",
   "name": "python3"
  },
  "language_info": {
   "codemirror_mode": {
    "name": "ipython",
    "version": 3
   },
   "file_extension": ".py",
   "mimetype": "text/x-python",
   "name": "python",
   "nbconvert_exporter": "python",
   "pygments_lexer": "ipython3",
   "version": "3.11.1"
  }
 },
 "nbformat": 4,
 "nbformat_minor": 5
}
